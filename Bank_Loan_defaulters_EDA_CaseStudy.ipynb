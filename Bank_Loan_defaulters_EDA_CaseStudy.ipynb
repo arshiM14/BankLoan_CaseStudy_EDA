{
 "cells": [
  {
   "attachments": {},
   "cell_type": "markdown",
   "id": "149ab4d8",
   "metadata": {},
   "source": [
    "### Exploratory Data Analysis - Bank Loan Defaulters"
   ]
  },
  {
   "cell_type": "code",
   "execution_count": 1,
   "id": "8966f125",
   "metadata": {},
   "outputs": [],
   "source": [
    "#importing libraries\n",
    "import numpy as np\n",
    "import pandas as pd\n",
    "import matplotlib.pyplot as plt\n",
    "import seaborn as sns"
   ]
  },
  {
   "cell_type": "code",
   "execution_count": 127,
   "id": "2207e2df",
   "metadata": {},
   "outputs": [],
   "source": [
    "import warnings\n",
    "warnings.filterwarnings(\"ignore\")"
   ]
  },
  {
   "cell_type": "code",
   "execution_count": 75,
   "id": "71c08e68",
   "metadata": {},
   "outputs": [],
   "source": [
    "#reading application.csv from the drive link provided\n",
    "\n",
    "inp1=pd.read_csv(r\"C:\\Users\\HP\\Downloads\\application_data.csv\")"
   ]
  },
  {
   "cell_type": "code",
   "execution_count": 76,
   "id": "a9684001",
   "metadata": {},
   "outputs": [
    {
     "data": {
      "text/html": [
       "<div>\n",
       "<style scoped>\n",
       "    .dataframe tbody tr th:only-of-type {\n",
       "        vertical-align: middle;\n",
       "    }\n",
       "\n",
       "    .dataframe tbody tr th {\n",
       "        vertical-align: top;\n",
       "    }\n",
       "\n",
       "    .dataframe thead th {\n",
       "        text-align: right;\n",
       "    }\n",
       "</style>\n",
       "<table border=\"1\" class=\"dataframe\">\n",
       "  <thead>\n",
       "    <tr style=\"text-align: right;\">\n",
       "      <th></th>\n",
       "      <th>SK_ID_CURR</th>\n",
       "      <th>TARGET</th>\n",
       "      <th>NAME_CONTRACT_TYPE</th>\n",
       "      <th>CODE_GENDER</th>\n",
       "      <th>FLAG_OWN_CAR</th>\n",
       "      <th>FLAG_OWN_REALTY</th>\n",
       "      <th>CNT_CHILDREN</th>\n",
       "      <th>AMT_INCOME_TOTAL</th>\n",
       "      <th>AMT_CREDIT</th>\n",
       "      <th>AMT_ANNUITY</th>\n",
       "      <th>...</th>\n",
       "      <th>FLAG_DOCUMENT_18</th>\n",
       "      <th>FLAG_DOCUMENT_19</th>\n",
       "      <th>FLAG_DOCUMENT_20</th>\n",
       "      <th>FLAG_DOCUMENT_21</th>\n",
       "      <th>AMT_REQ_CREDIT_BUREAU_HOUR</th>\n",
       "      <th>AMT_REQ_CREDIT_BUREAU_DAY</th>\n",
       "      <th>AMT_REQ_CREDIT_BUREAU_WEEK</th>\n",
       "      <th>AMT_REQ_CREDIT_BUREAU_MON</th>\n",
       "      <th>AMT_REQ_CREDIT_BUREAU_QRT</th>\n",
       "      <th>AMT_REQ_CREDIT_BUREAU_YEAR</th>\n",
       "    </tr>\n",
       "  </thead>\n",
       "  <tbody>\n",
       "    <tr>\n",
       "      <th>0</th>\n",
       "      <td>100002</td>\n",
       "      <td>1</td>\n",
       "      <td>Cash loans</td>\n",
       "      <td>M</td>\n",
       "      <td>N</td>\n",
       "      <td>Y</td>\n",
       "      <td>0</td>\n",
       "      <td>202500.0</td>\n",
       "      <td>406597.5</td>\n",
       "      <td>24700.5</td>\n",
       "      <td>...</td>\n",
       "      <td>0</td>\n",
       "      <td>0</td>\n",
       "      <td>0</td>\n",
       "      <td>0</td>\n",
       "      <td>0.0</td>\n",
       "      <td>0.0</td>\n",
       "      <td>0.0</td>\n",
       "      <td>0.0</td>\n",
       "      <td>0.0</td>\n",
       "      <td>1.0</td>\n",
       "    </tr>\n",
       "    <tr>\n",
       "      <th>1</th>\n",
       "      <td>100003</td>\n",
       "      <td>0</td>\n",
       "      <td>Cash loans</td>\n",
       "      <td>F</td>\n",
       "      <td>N</td>\n",
       "      <td>N</td>\n",
       "      <td>0</td>\n",
       "      <td>270000.0</td>\n",
       "      <td>1293502.5</td>\n",
       "      <td>35698.5</td>\n",
       "      <td>...</td>\n",
       "      <td>0</td>\n",
       "      <td>0</td>\n",
       "      <td>0</td>\n",
       "      <td>0</td>\n",
       "      <td>0.0</td>\n",
       "      <td>0.0</td>\n",
       "      <td>0.0</td>\n",
       "      <td>0.0</td>\n",
       "      <td>0.0</td>\n",
       "      <td>0.0</td>\n",
       "    </tr>\n",
       "    <tr>\n",
       "      <th>2</th>\n",
       "      <td>100004</td>\n",
       "      <td>0</td>\n",
       "      <td>Revolving loans</td>\n",
       "      <td>M</td>\n",
       "      <td>Y</td>\n",
       "      <td>Y</td>\n",
       "      <td>0</td>\n",
       "      <td>67500.0</td>\n",
       "      <td>135000.0</td>\n",
       "      <td>6750.0</td>\n",
       "      <td>...</td>\n",
       "      <td>0</td>\n",
       "      <td>0</td>\n",
       "      <td>0</td>\n",
       "      <td>0</td>\n",
       "      <td>0.0</td>\n",
       "      <td>0.0</td>\n",
       "      <td>0.0</td>\n",
       "      <td>0.0</td>\n",
       "      <td>0.0</td>\n",
       "      <td>0.0</td>\n",
       "    </tr>\n",
       "    <tr>\n",
       "      <th>3</th>\n",
       "      <td>100006</td>\n",
       "      <td>0</td>\n",
       "      <td>Cash loans</td>\n",
       "      <td>F</td>\n",
       "      <td>N</td>\n",
       "      <td>Y</td>\n",
       "      <td>0</td>\n",
       "      <td>135000.0</td>\n",
       "      <td>312682.5</td>\n",
       "      <td>29686.5</td>\n",
       "      <td>...</td>\n",
       "      <td>0</td>\n",
       "      <td>0</td>\n",
       "      <td>0</td>\n",
       "      <td>0</td>\n",
       "      <td>NaN</td>\n",
       "      <td>NaN</td>\n",
       "      <td>NaN</td>\n",
       "      <td>NaN</td>\n",
       "      <td>NaN</td>\n",
       "      <td>NaN</td>\n",
       "    </tr>\n",
       "    <tr>\n",
       "      <th>4</th>\n",
       "      <td>100007</td>\n",
       "      <td>0</td>\n",
       "      <td>Cash loans</td>\n",
       "      <td>M</td>\n",
       "      <td>N</td>\n",
       "      <td>Y</td>\n",
       "      <td>0</td>\n",
       "      <td>121500.0</td>\n",
       "      <td>513000.0</td>\n",
       "      <td>21865.5</td>\n",
       "      <td>...</td>\n",
       "      <td>0</td>\n",
       "      <td>0</td>\n",
       "      <td>0</td>\n",
       "      <td>0</td>\n",
       "      <td>0.0</td>\n",
       "      <td>0.0</td>\n",
       "      <td>0.0</td>\n",
       "      <td>0.0</td>\n",
       "      <td>0.0</td>\n",
       "      <td>0.0</td>\n",
       "    </tr>\n",
       "  </tbody>\n",
       "</table>\n",
       "<p>5 rows × 122 columns</p>\n",
       "</div>"
      ],
      "text/plain": [
       "   SK_ID_CURR  TARGET NAME_CONTRACT_TYPE CODE_GENDER FLAG_OWN_CAR  \\\n",
       "0      100002       1         Cash loans           M            N   \n",
       "1      100003       0         Cash loans           F            N   \n",
       "2      100004       0    Revolving loans           M            Y   \n",
       "3      100006       0         Cash loans           F            N   \n",
       "4      100007       0         Cash loans           M            N   \n",
       "\n",
       "  FLAG_OWN_REALTY  CNT_CHILDREN  AMT_INCOME_TOTAL  AMT_CREDIT  AMT_ANNUITY  \\\n",
       "0               Y             0          202500.0    406597.5      24700.5   \n",
       "1               N             0          270000.0   1293502.5      35698.5   \n",
       "2               Y             0           67500.0    135000.0       6750.0   \n",
       "3               Y             0          135000.0    312682.5      29686.5   \n",
       "4               Y             0          121500.0    513000.0      21865.5   \n",
       "\n",
       "   ...  FLAG_DOCUMENT_18 FLAG_DOCUMENT_19 FLAG_DOCUMENT_20 FLAG_DOCUMENT_21  \\\n",
       "0  ...                 0                0                0                0   \n",
       "1  ...                 0                0                0                0   \n",
       "2  ...                 0                0                0                0   \n",
       "3  ...                 0                0                0                0   \n",
       "4  ...                 0                0                0                0   \n",
       "\n",
       "  AMT_REQ_CREDIT_BUREAU_HOUR AMT_REQ_CREDIT_BUREAU_DAY  \\\n",
       "0                        0.0                       0.0   \n",
       "1                        0.0                       0.0   \n",
       "2                        0.0                       0.0   \n",
       "3                        NaN                       NaN   \n",
       "4                        0.0                       0.0   \n",
       "\n",
       "   AMT_REQ_CREDIT_BUREAU_WEEK  AMT_REQ_CREDIT_BUREAU_MON  \\\n",
       "0                         0.0                        0.0   \n",
       "1                         0.0                        0.0   \n",
       "2                         0.0                        0.0   \n",
       "3                         NaN                        NaN   \n",
       "4                         0.0                        0.0   \n",
       "\n",
       "   AMT_REQ_CREDIT_BUREAU_QRT  AMT_REQ_CREDIT_BUREAU_YEAR  \n",
       "0                        0.0                         1.0  \n",
       "1                        0.0                         0.0  \n",
       "2                        0.0                         0.0  \n",
       "3                        NaN                         NaN  \n",
       "4                        0.0                         0.0  \n",
       "\n",
       "[5 rows x 122 columns]"
      ]
     },
     "execution_count": 76,
     "metadata": {},
     "output_type": "execute_result"
    }
   ],
   "source": [
    "#checking if dataframe\n",
    "inp1.head()"
   ]
  },
  {
   "cell_type": "code",
   "execution_count": 77,
   "id": "56790148",
   "metadata": {},
   "outputs": [
    {
     "data": {
      "text/plain": [
       "(307511, 122)"
      ]
     },
     "execution_count": 77,
     "metadata": {},
     "output_type": "execute_result"
    }
   ],
   "source": [
    "#checking shape of application_data\n",
    "inp1.shape"
   ]
  },
  {
   "cell_type": "markdown",
   "id": "fad2aa99",
   "metadata": {},
   "source": [
    "Removing the unwanted columns first"
   ]
  },
  {
   "cell_type": "code",
   "execution_count": 78,
   "id": "5f25ee2e",
   "metadata": {},
   "outputs": [],
   "source": [
    "remove=['FLAG_MOBIL', 'FLAG_EMP_PHONE', 'FLAG_WORK_PHONE', 'FLAG_CONT_MOBILE',\n",
    "       'FLAG_PHONE', 'FLAG_EMAIL','REGION_RATING_CLIENT','REGION_RATING_CLIENT_W_CITY','FLAG_EMAIL','CNT_FAM_MEMBERS', 'REGION_RATING_CLIENT',\n",
    "       'REGION_RATING_CLIENT_W_CITY','DAYS_LAST_PHONE_CHANGE', 'FLAG_DOCUMENT_2', 'FLAG_DOCUMENT_3','FLAG_DOCUMENT_4', 'FLAG_DOCUMENT_5', 'FLAG_DOCUMENT_6',\n",
    "       'FLAG_DOCUMENT_7', 'FLAG_DOCUMENT_8', 'FLAG_DOCUMENT_9','FLAG_DOCUMENT_10', 'FLAG_DOCUMENT_11', 'FLAG_DOCUMENT_12',\n",
    "       'FLAG_DOCUMENT_13', 'FLAG_DOCUMENT_14', 'FLAG_DOCUMENT_15','FLAG_DOCUMENT_16', 'FLAG_DOCUMENT_17', 'FLAG_DOCUMENT_18',\n",
    "       'FLAG_DOCUMENT_19', 'FLAG_DOCUMENT_20', 'FLAG_DOCUMENT_21']\n",
    "\n",
    "inp1.drop(labels=remove,axis=1,inplace=True)"
   ]
  },
  {
   "cell_type": "code",
   "execution_count": 79,
   "id": "4692a6e4",
   "metadata": {},
   "outputs": [
    {
     "data": {
      "text/plain": [
       "(307511, 92)"
      ]
     },
     "execution_count": 79,
     "metadata": {},
     "output_type": "execute_result"
    }
   ],
   "source": [
    "inp1.shape"
   ]
  },
  {
   "cell_type": "code",
   "execution_count": 80,
   "id": "469351f2",
   "metadata": {
    "scrolled": true
   },
   "outputs": [
    {
     "data": {
      "text/plain": [
       "SK_ID_CURR                           0\n",
       "TARGET                               0\n",
       "NAME_CONTRACT_TYPE                   0\n",
       "CODE_GENDER                          0\n",
       "FLAG_OWN_CAR                         0\n",
       "FLAG_OWN_REALTY                      0\n",
       "CNT_CHILDREN                         0\n",
       "AMT_INCOME_TOTAL                     0\n",
       "AMT_CREDIT                           0\n",
       "AMT_ANNUITY                         12\n",
       "AMT_GOODS_PRICE                    278\n",
       "NAME_TYPE_SUITE                   1292\n",
       "NAME_INCOME_TYPE                     0\n",
       "NAME_EDUCATION_TYPE                  0\n",
       "NAME_FAMILY_STATUS                   0\n",
       "NAME_HOUSING_TYPE                    0\n",
       "REGION_POPULATION_RELATIVE           0\n",
       "DAYS_BIRTH                           0\n",
       "DAYS_EMPLOYED                        0\n",
       "DAYS_REGISTRATION                    0\n",
       "DAYS_ID_PUBLISH                      0\n",
       "OWN_CAR_AGE                     202929\n",
       "OCCUPATION_TYPE                  96391\n",
       "WEEKDAY_APPR_PROCESS_START           0\n",
       "HOUR_APPR_PROCESS_START              0\n",
       "REG_REGION_NOT_LIVE_REGION           0\n",
       "REG_REGION_NOT_WORK_REGION           0\n",
       "LIVE_REGION_NOT_WORK_REGION          0\n",
       "REG_CITY_NOT_LIVE_CITY               0\n",
       "REG_CITY_NOT_WORK_CITY               0\n",
       "LIVE_CITY_NOT_WORK_CITY              0\n",
       "ORGANIZATION_TYPE                    0\n",
       "EXT_SOURCE_1                    173378\n",
       "EXT_SOURCE_2                       660\n",
       "EXT_SOURCE_3                     60965\n",
       "APARTMENTS_AVG                  156061\n",
       "BASEMENTAREA_AVG                179943\n",
       "YEARS_BEGINEXPLUATATION_AVG     150007\n",
       "YEARS_BUILD_AVG                 204488\n",
       "COMMONAREA_AVG                  214865\n",
       "ELEVATORS_AVG                   163891\n",
       "ENTRANCES_AVG                   154828\n",
       "FLOORSMAX_AVG                   153020\n",
       "FLOORSMIN_AVG                   208642\n",
       "LANDAREA_AVG                    182590\n",
       "LIVINGAPARTMENTS_AVG            210199\n",
       "LIVINGAREA_AVG                  154350\n",
       "NONLIVINGAPARTMENTS_AVG         213514\n",
       "NONLIVINGAREA_AVG               169682\n",
       "APARTMENTS_MODE                 156061\n",
       "BASEMENTAREA_MODE               179943\n",
       "YEARS_BEGINEXPLUATATION_MODE    150007\n",
       "YEARS_BUILD_MODE                204488\n",
       "COMMONAREA_MODE                 214865\n",
       "ELEVATORS_MODE                  163891\n",
       "ENTRANCES_MODE                  154828\n",
       "FLOORSMAX_MODE                  153020\n",
       "FLOORSMIN_MODE                  208642\n",
       "LANDAREA_MODE                   182590\n",
       "LIVINGAPARTMENTS_MODE           210199\n",
       "LIVINGAREA_MODE                 154350\n",
       "NONLIVINGAPARTMENTS_MODE        213514\n",
       "NONLIVINGAREA_MODE              169682\n",
       "APARTMENTS_MEDI                 156061\n",
       "BASEMENTAREA_MEDI               179943\n",
       "YEARS_BEGINEXPLUATATION_MEDI    150007\n",
       "YEARS_BUILD_MEDI                204488\n",
       "COMMONAREA_MEDI                 214865\n",
       "ELEVATORS_MEDI                  163891\n",
       "ENTRANCES_MEDI                  154828\n",
       "FLOORSMAX_MEDI                  153020\n",
       "FLOORSMIN_MEDI                  208642\n",
       "LANDAREA_MEDI                   182590\n",
       "LIVINGAPARTMENTS_MEDI           210199\n",
       "LIVINGAREA_MEDI                 154350\n",
       "NONLIVINGAPARTMENTS_MEDI        213514\n",
       "NONLIVINGAREA_MEDI              169682\n",
       "FONDKAPREMONT_MODE              210295\n",
       "HOUSETYPE_MODE                  154297\n",
       "TOTALAREA_MODE                  148431\n",
       "WALLSMATERIAL_MODE              156341\n",
       "EMERGENCYSTATE_MODE             145755\n",
       "OBS_30_CNT_SOCIAL_CIRCLE          1021\n",
       "DEF_30_CNT_SOCIAL_CIRCLE          1021\n",
       "OBS_60_CNT_SOCIAL_CIRCLE          1021\n",
       "DEF_60_CNT_SOCIAL_CIRCLE          1021\n",
       "AMT_REQ_CREDIT_BUREAU_HOUR       41519\n",
       "AMT_REQ_CREDIT_BUREAU_DAY        41519\n",
       "AMT_REQ_CREDIT_BUREAU_WEEK       41519\n",
       "AMT_REQ_CREDIT_BUREAU_MON        41519\n",
       "AMT_REQ_CREDIT_BUREAU_QRT        41519\n",
       "AMT_REQ_CREDIT_BUREAU_YEAR       41519\n",
       "dtype: int64"
      ]
     },
     "execution_count": 80,
     "metadata": {},
     "output_type": "execute_result"
    }
   ],
   "source": [
    "#checking for null/missing values in inp1 dataframe\n",
    "pd.options.display.max_rows = 4000\n",
    "\n",
    "a=inp1.isnull().sum()\n",
    "a"
   ]
  },
  {
   "cell_type": "markdown",
   "id": "ea0834f5",
   "metadata": {},
   "source": [
    "We can see that massive number of records are missing for columns that we will not be using for analysing. We can directly drop these columns where missing count > 92K which is approximately 30%"
   ]
  },
  {
   "cell_type": "code",
   "execution_count": 81,
   "id": "5df84ce7",
   "metadata": {},
   "outputs": [
    {
     "data": {
      "text/plain": [
       "92253.3"
      ]
     },
     "execution_count": 81,
     "metadata": {},
     "output_type": "execute_result"
    }
   ],
   "source": [
    " 307511*0.3"
   ]
  },
  {
   "cell_type": "code",
   "execution_count": 82,
   "id": "e20536dd",
   "metadata": {},
   "outputs": [
    {
     "name": "stdout",
     "output_type": "stream",
     "text": [
      "['OWN_CAR_AGE', 'OCCUPATION_TYPE', 'EXT_SOURCE_1', 'APARTMENTS_AVG', 'BASEMENTAREA_AVG', 'YEARS_BEGINEXPLUATATION_AVG', 'YEARS_BUILD_AVG', 'COMMONAREA_AVG', 'ELEVATORS_AVG', 'ENTRANCES_AVG', 'FLOORSMAX_AVG', 'FLOORSMIN_AVG', 'LANDAREA_AVG', 'LIVINGAPARTMENTS_AVG', 'LIVINGAREA_AVG', 'NONLIVINGAPARTMENTS_AVG', 'NONLIVINGAREA_AVG', 'APARTMENTS_MODE', 'BASEMENTAREA_MODE', 'YEARS_BEGINEXPLUATATION_MODE', 'YEARS_BUILD_MODE', 'COMMONAREA_MODE', 'ELEVATORS_MODE', 'ENTRANCES_MODE', 'FLOORSMAX_MODE', 'FLOORSMIN_MODE', 'LANDAREA_MODE', 'LIVINGAPARTMENTS_MODE', 'LIVINGAREA_MODE', 'NONLIVINGAPARTMENTS_MODE', 'NONLIVINGAREA_MODE', 'APARTMENTS_MEDI', 'BASEMENTAREA_MEDI', 'YEARS_BEGINEXPLUATATION_MEDI', 'YEARS_BUILD_MEDI', 'COMMONAREA_MEDI', 'ELEVATORS_MEDI', 'ENTRANCES_MEDI', 'FLOORSMAX_MEDI', 'FLOORSMIN_MEDI', 'LANDAREA_MEDI', 'LIVINGAPARTMENTS_MEDI', 'LIVINGAREA_MEDI', 'NONLIVINGAPARTMENTS_MEDI', 'NONLIVINGAREA_MEDI', 'FONDKAPREMONT_MODE', 'HOUSETYPE_MODE', 'TOTALAREA_MODE', 'WALLSMATERIAL_MODE', 'EMERGENCYSTATE_MODE']\n"
     ]
    }
   ],
   "source": [
    "# creating list of columns where missing records > 92K\n",
    "empty=list(a[a>92000].index)\n",
    "print(empty)"
   ]
  },
  {
   "cell_type": "code",
   "execution_count": 83,
   "id": "7bf56a16",
   "metadata": {},
   "outputs": [],
   "source": [
    "#deleting/dropping these columns\n",
    "inp1.drop(labels=empty,axis=1,inplace=True)"
   ]
  },
  {
   "cell_type": "code",
   "execution_count": 84,
   "id": "5363d16d",
   "metadata": {},
   "outputs": [
    {
     "data": {
      "text/plain": [
       "(307511, 42)"
      ]
     },
     "execution_count": 84,
     "metadata": {},
     "output_type": "execute_result"
    }
   ],
   "source": [
    "inp1.shape"
   ]
  },
  {
   "cell_type": "code",
   "execution_count": 85,
   "id": "47e3c4bf",
   "metadata": {},
   "outputs": [
    {
     "data": {
      "text/plain": [
       "SK_ID_CURR                         0\n",
       "TARGET                             0\n",
       "NAME_CONTRACT_TYPE                 0\n",
       "CODE_GENDER                        0\n",
       "FLAG_OWN_CAR                       0\n",
       "FLAG_OWN_REALTY                    0\n",
       "CNT_CHILDREN                       0\n",
       "AMT_INCOME_TOTAL                   0\n",
       "AMT_CREDIT                         0\n",
       "AMT_ANNUITY                       12\n",
       "AMT_GOODS_PRICE                  278\n",
       "NAME_TYPE_SUITE                 1292\n",
       "NAME_INCOME_TYPE                   0\n",
       "NAME_EDUCATION_TYPE                0\n",
       "NAME_FAMILY_STATUS                 0\n",
       "NAME_HOUSING_TYPE                  0\n",
       "REGION_POPULATION_RELATIVE         0\n",
       "DAYS_BIRTH                         0\n",
       "DAYS_EMPLOYED                      0\n",
       "DAYS_REGISTRATION                  0\n",
       "DAYS_ID_PUBLISH                    0\n",
       "WEEKDAY_APPR_PROCESS_START         0\n",
       "HOUR_APPR_PROCESS_START            0\n",
       "REG_REGION_NOT_LIVE_REGION         0\n",
       "REG_REGION_NOT_WORK_REGION         0\n",
       "LIVE_REGION_NOT_WORK_REGION        0\n",
       "REG_CITY_NOT_LIVE_CITY             0\n",
       "REG_CITY_NOT_WORK_CITY             0\n",
       "LIVE_CITY_NOT_WORK_CITY            0\n",
       "ORGANIZATION_TYPE                  0\n",
       "EXT_SOURCE_2                     660\n",
       "EXT_SOURCE_3                   60965\n",
       "OBS_30_CNT_SOCIAL_CIRCLE        1021\n",
       "DEF_30_CNT_SOCIAL_CIRCLE        1021\n",
       "OBS_60_CNT_SOCIAL_CIRCLE        1021\n",
       "DEF_60_CNT_SOCIAL_CIRCLE        1021\n",
       "AMT_REQ_CREDIT_BUREAU_HOUR     41519\n",
       "AMT_REQ_CREDIT_BUREAU_DAY      41519\n",
       "AMT_REQ_CREDIT_BUREAU_WEEK     41519\n",
       "AMT_REQ_CREDIT_BUREAU_MON      41519\n",
       "AMT_REQ_CREDIT_BUREAU_QRT      41519\n",
       "AMT_REQ_CREDIT_BUREAU_YEAR     41519\n",
       "dtype: int64"
      ]
     },
     "execution_count": 85,
     "metadata": {},
     "output_type": "execute_result"
    }
   ],
   "source": [
    "#check for remaining nulls\n",
    "inp1.isnull().sum()"
   ]
  },
  {
   "cell_type": "markdown",
   "id": "4c2d6435",
   "metadata": {},
   "source": [
    "Dropping some more unwanted columns"
   ]
  },
  {
   "cell_type": "code",
   "execution_count": 86,
   "id": "73a26532",
   "metadata": {},
   "outputs": [],
   "source": [
    "inp1.drop(inp1.loc[:,\"EXT_SOURCE_2\":\"AMT_REQ_CREDIT_BUREAU_YEAR\"],axis=1,inplace=True)"
   ]
  },
  {
   "cell_type": "code",
   "execution_count": 87,
   "id": "451cc718",
   "metadata": {},
   "outputs": [
    {
     "data": {
      "text/plain": [
       "SK_ID_CURR                        0\n",
       "TARGET                            0\n",
       "NAME_CONTRACT_TYPE                0\n",
       "CODE_GENDER                       0\n",
       "FLAG_OWN_CAR                      0\n",
       "FLAG_OWN_REALTY                   0\n",
       "CNT_CHILDREN                      0\n",
       "AMT_INCOME_TOTAL                  0\n",
       "AMT_CREDIT                        0\n",
       "AMT_ANNUITY                      12\n",
       "AMT_GOODS_PRICE                 278\n",
       "NAME_TYPE_SUITE                1292\n",
       "NAME_INCOME_TYPE                  0\n",
       "NAME_EDUCATION_TYPE               0\n",
       "NAME_FAMILY_STATUS                0\n",
       "NAME_HOUSING_TYPE                 0\n",
       "REGION_POPULATION_RELATIVE        0\n",
       "DAYS_BIRTH                        0\n",
       "DAYS_EMPLOYED                     0\n",
       "DAYS_REGISTRATION                 0\n",
       "DAYS_ID_PUBLISH                   0\n",
       "WEEKDAY_APPR_PROCESS_START        0\n",
       "HOUR_APPR_PROCESS_START           0\n",
       "REG_REGION_NOT_LIVE_REGION        0\n",
       "REG_REGION_NOT_WORK_REGION        0\n",
       "LIVE_REGION_NOT_WORK_REGION       0\n",
       "REG_CITY_NOT_LIVE_CITY            0\n",
       "REG_CITY_NOT_WORK_CITY            0\n",
       "LIVE_CITY_NOT_WORK_CITY           0\n",
       "ORGANIZATION_TYPE                 0\n",
       "dtype: int64"
      ]
     },
     "execution_count": 87,
     "metadata": {},
     "output_type": "execute_result"
    }
   ],
   "source": [
    "inp1.isnull().sum()"
   ]
  },
  {
   "cell_type": "markdown",
   "id": "cd7ce8c7",
   "metadata": {},
   "source": [
    "SINCE TOTAL NUMBER OF RECORDS IS 30LACS+ therefore missing values for AMT_ANNUITY,AMT_GOODS_PRICE,NAME_TYPE_SUITE is very less, so we will drop those as well."
   ]
  },
  {
   "cell_type": "code",
   "execution_count": 88,
   "id": "d0fa8e9b",
   "metadata": {},
   "outputs": [],
   "source": [
    "inp1=inp1[~inp1.AMT_ANNUITY.isnull()]"
   ]
  },
  {
   "cell_type": "code",
   "execution_count": 89,
   "id": "4cc53ebe",
   "metadata": {},
   "outputs": [],
   "source": [
    "inp1=inp1[~inp1.AMT_GOODS_PRICE.isnull()]"
   ]
  },
  {
   "cell_type": "code",
   "execution_count": 92,
   "id": "2223fab3",
   "metadata": {},
   "outputs": [],
   "source": [
    "#copying data from inp1 to inp2\n",
    "inp2=inp1[~inp1.NAME_TYPE_SUITE.isnull()]"
   ]
  },
  {
   "cell_type": "code",
   "execution_count": 93,
   "id": "9eb6d5a8",
   "metadata": {},
   "outputs": [
    {
     "data": {
      "text/plain": [
       "(306207, 30)"
      ]
     },
     "execution_count": 93,
     "metadata": {},
     "output_type": "execute_result"
    }
   ],
   "source": [
    "inp2.shape"
   ]
  },
  {
   "cell_type": "markdown",
   "id": "2fe69644",
   "metadata": {},
   "source": [
    "Checking nulls again"
   ]
  },
  {
   "cell_type": "code",
   "execution_count": 94,
   "id": "554d3e50",
   "metadata": {},
   "outputs": [
    {
     "data": {
      "text/plain": [
       "SK_ID_CURR                     0\n",
       "TARGET                         0\n",
       "NAME_CONTRACT_TYPE             0\n",
       "CODE_GENDER                    0\n",
       "FLAG_OWN_CAR                   0\n",
       "FLAG_OWN_REALTY                0\n",
       "CNT_CHILDREN                   0\n",
       "AMT_INCOME_TOTAL               0\n",
       "AMT_CREDIT                     0\n",
       "AMT_ANNUITY                    0\n",
       "AMT_GOODS_PRICE                0\n",
       "NAME_TYPE_SUITE                0\n",
       "NAME_INCOME_TYPE               0\n",
       "NAME_EDUCATION_TYPE            0\n",
       "NAME_FAMILY_STATUS             0\n",
       "NAME_HOUSING_TYPE              0\n",
       "REGION_POPULATION_RELATIVE     0\n",
       "DAYS_BIRTH                     0\n",
       "DAYS_EMPLOYED                  0\n",
       "DAYS_REGISTRATION              0\n",
       "DAYS_ID_PUBLISH                0\n",
       "WEEKDAY_APPR_PROCESS_START     0\n",
       "HOUR_APPR_PROCESS_START        0\n",
       "REG_REGION_NOT_LIVE_REGION     0\n",
       "REG_REGION_NOT_WORK_REGION     0\n",
       "LIVE_REGION_NOT_WORK_REGION    0\n",
       "REG_CITY_NOT_LIVE_CITY         0\n",
       "REG_CITY_NOT_WORK_CITY         0\n",
       "LIVE_CITY_NOT_WORK_CITY        0\n",
       "ORGANIZATION_TYPE              0\n",
       "dtype: int64"
      ]
     },
     "execution_count": 94,
     "metadata": {},
     "output_type": "execute_result"
    }
   ],
   "source": [
    "inp2.isnull().sum()"
   ]
  },
  {
   "cell_type": "markdown",
   "id": "e0339c08",
   "metadata": {},
   "source": [
    "Checking for correct data types for columns"
   ]
  },
  {
   "cell_type": "code",
   "execution_count": 96,
   "id": "f128f0c9",
   "metadata": {},
   "outputs": [
    {
     "name": "stdout",
     "output_type": "stream",
     "text": [
      "<class 'pandas.core.frame.DataFrame'>\n",
      "Int64Index: 306207 entries, 0 to 307510\n",
      "Data columns (total 30 columns):\n",
      " #   Column                       Non-Null Count   Dtype  \n",
      "---  ------                       --------------   -----  \n",
      " 0   SK_ID_CURR                   306207 non-null  int64  \n",
      " 1   TARGET                       306207 non-null  int64  \n",
      " 2   NAME_CONTRACT_TYPE           306207 non-null  object \n",
      " 3   CODE_GENDER                  306207 non-null  object \n",
      " 4   FLAG_OWN_CAR                 306207 non-null  object \n",
      " 5   FLAG_OWN_REALTY              306207 non-null  object \n",
      " 6   CNT_CHILDREN                 306207 non-null  int64  \n",
      " 7   AMT_INCOME_TOTAL             306207 non-null  float64\n",
      " 8   AMT_CREDIT                   306207 non-null  float64\n",
      " 9   AMT_ANNUITY                  306207 non-null  float64\n",
      " 10  AMT_GOODS_PRICE              306207 non-null  float64\n",
      " 11  NAME_TYPE_SUITE              306207 non-null  object \n",
      " 12  NAME_INCOME_TYPE             306207 non-null  object \n",
      " 13  NAME_EDUCATION_TYPE          306207 non-null  object \n",
      " 14  NAME_FAMILY_STATUS           306207 non-null  object \n",
      " 15  NAME_HOUSING_TYPE            306207 non-null  object \n",
      " 16  REGION_POPULATION_RELATIVE   306207 non-null  float64\n",
      " 17  DAYS_BIRTH                   306207 non-null  int64  \n",
      " 18  DAYS_EMPLOYED                306207 non-null  int64  \n",
      " 19  DAYS_REGISTRATION            306207 non-null  float64\n",
      " 20  DAYS_ID_PUBLISH              306207 non-null  int64  \n",
      " 21  WEEKDAY_APPR_PROCESS_START   306207 non-null  object \n",
      " 22  HOUR_APPR_PROCESS_START      306207 non-null  int64  \n",
      " 23  REG_REGION_NOT_LIVE_REGION   306207 non-null  int64  \n",
      " 24  REG_REGION_NOT_WORK_REGION   306207 non-null  int64  \n",
      " 25  LIVE_REGION_NOT_WORK_REGION  306207 non-null  int64  \n",
      " 26  REG_CITY_NOT_LIVE_CITY       306207 non-null  int64  \n",
      " 27  REG_CITY_NOT_WORK_CITY       306207 non-null  int64  \n",
      " 28  LIVE_CITY_NOT_WORK_CITY      306207 non-null  int64  \n",
      " 29  ORGANIZATION_TYPE            306207 non-null  object \n",
      "dtypes: float64(6), int64(13), object(11)\n",
      "memory usage: 72.4+ MB\n"
     ]
    }
   ],
   "source": [
    "inp2.info()"
   ]
  },
  {
   "cell_type": "markdown",
   "id": "4edbc793",
   "metadata": {},
   "source": [
    "Check for unique values"
   ]
  },
  {
   "cell_type": "code",
   "execution_count": 97,
   "id": "2520fcd6",
   "metadata": {},
   "outputs": [
    {
     "data": {
      "text/plain": [
       "array(['M', 'F', 'XNA'], dtype=object)"
      ]
     },
     "execution_count": 97,
     "metadata": {},
     "output_type": "execute_result"
    }
   ],
   "source": [
    "inp2.CODE_GENDER.unique()"
   ]
  },
  {
   "cell_type": "code",
   "execution_count": 98,
   "id": "a37351c0",
   "metadata": {},
   "outputs": [
    {
     "data": {
      "text/plain": [
       "array(['Business Entity Type 3', 'School', 'Government', 'Religion',\n",
       "       'Other', 'XNA', 'Electricity', 'Medicine',\n",
       "       'Business Entity Type 2', 'Self-employed', 'Transport: type 2',\n",
       "       'Construction', 'Housing', 'Kindergarten', 'Trade: type 7',\n",
       "       'Industry: type 11', 'Military', 'Services', 'Security Ministries',\n",
       "       'Transport: type 4', 'Industry: type 1', 'Emergency', 'Security',\n",
       "       'Trade: type 2', 'University', 'Police', 'Business Entity Type 1',\n",
       "       'Postal', 'Transport: type 3', 'Industry: type 4', 'Agriculture',\n",
       "       'Restaurant', 'Culture', 'Hotel', 'Industry: type 7',\n",
       "       'Trade: type 3', 'Industry: type 3', 'Bank', 'Industry: type 9',\n",
       "       'Insurance', 'Trade: type 6', 'Industry: type 2',\n",
       "       'Transport: type 1', 'Industry: type 12', 'Mobile',\n",
       "       'Trade: type 1', 'Industry: type 5', 'Industry: type 10',\n",
       "       'Legal Services', 'Advertising', 'Trade: type 5', 'Cleaning',\n",
       "       'Industry: type 13', 'Trade: type 4', 'Telecom',\n",
       "       'Industry: type 8', 'Realtor', 'Industry: type 6'], dtype=object)"
      ]
     },
     "execution_count": 98,
     "metadata": {},
     "output_type": "execute_result"
    }
   ],
   "source": [
    "inp2.ORGANIZATION_TYPE.unique()"
   ]
  },
  {
   "cell_type": "code",
   "execution_count": 99,
   "id": "efc04a26",
   "metadata": {},
   "outputs": [
    {
     "data": {
      "text/plain": [
       "array([1, 0], dtype=int64)"
      ]
     },
     "execution_count": 99,
     "metadata": {},
     "output_type": "execute_result"
    }
   ],
   "source": [
    "inp2.TARGET.unique()"
   ]
  },
  {
   "cell_type": "code",
   "execution_count": 100,
   "id": "beff601d",
   "metadata": {},
   "outputs": [
    {
     "data": {
      "text/plain": [
       "array(['Unaccompanied', 'Family', 'Spouse, partner', 'Children',\n",
       "       'Other_A', 'Other_B', 'Group of people'], dtype=object)"
      ]
     },
     "execution_count": 100,
     "metadata": {},
     "output_type": "execute_result"
    }
   ],
   "source": [
    "inp2.NAME_TYPE_SUITE.unique()"
   ]
  },
  {
   "cell_type": "code",
   "execution_count": 101,
   "id": "91062584",
   "metadata": {},
   "outputs": [
    {
     "data": {
      "text/plain": [
       "array(['Working', 'State servant', 'Commercial associate', 'Pensioner',\n",
       "       'Unemployed', 'Student', 'Businessman', 'Maternity leave'],\n",
       "      dtype=object)"
      ]
     },
     "execution_count": 101,
     "metadata": {},
     "output_type": "execute_result"
    }
   ],
   "source": [
    "inp2.NAME_INCOME_TYPE.unique()"
   ]
  },
  {
   "cell_type": "code",
   "execution_count": 102,
   "id": "8980e245",
   "metadata": {},
   "outputs": [
    {
     "data": {
      "text/plain": [
       "array(['Secondary / secondary special', 'Higher education',\n",
       "       'Incomplete higher', 'Lower secondary', 'Academic degree'],\n",
       "      dtype=object)"
      ]
     },
     "execution_count": 102,
     "metadata": {},
     "output_type": "execute_result"
    }
   ],
   "source": [
    "inp2.NAME_EDUCATION_TYPE.unique()"
   ]
  },
  {
   "cell_type": "markdown",
   "id": "58c9157e",
   "metadata": {},
   "source": [
    "##### We can see that organisation type and gender code consists of XNA, Let's impute these values"
   ]
  },
  {
   "cell_type": "code",
   "execution_count": 103,
   "id": "4abc3a1c",
   "metadata": {},
   "outputs": [
    {
     "data": {
      "text/plain": [
       "F      201635\n",
       "M      104568\n",
       "XNA         4\n",
       "Name: CODE_GENDER, dtype: int64"
      ]
     },
     "execution_count": 103,
     "metadata": {},
     "output_type": "execute_result"
    }
   ],
   "source": [
    "inp2.CODE_GENDER.value_counts()"
   ]
  },
  {
   "cell_type": "markdown",
   "id": "98cfa347",
   "metadata": {},
   "source": [
    "we have only 4 XNAs, we shall inpute these as F"
   ]
  },
  {
   "cell_type": "code",
   "execution_count": 104,
   "id": "9fd58e45",
   "metadata": {},
   "outputs": [
    {
     "data": {
      "text/plain": [
       "F    201639\n",
       "M    104568\n",
       "Name: CODE_GENDER, dtype: int64"
      ]
     },
     "execution_count": 104,
     "metadata": {},
     "output_type": "execute_result"
    }
   ],
   "source": [
    "inp2.loc[inp2[\"CODE_GENDER\"]=='XNA',\"CODE_GENDER\"]='F'\n",
    "inp2.CODE_GENDER.value_counts()"
   ]
  },
  {
   "cell_type": "code",
   "execution_count": 107,
   "id": "7796e212",
   "metadata": {},
   "outputs": [
    {
     "data": {
      "text/plain": [
       "Business Entity Type 3    67683\n",
       "XNA                       55178\n",
       "Self-employed             38256\n",
       "Other                     16621\n",
       "Medicine                  11144\n",
       "Business Entity Type 2    10509\n",
       "Government                10356\n",
       "School                     8856\n",
       "Trade: type 7              7798\n",
       "Kindergarten               6853\n",
       "Construction               6692\n",
       "Business Entity Type 1     5962\n",
       "Transport: type 4          5374\n",
       "Trade: type 3              3471\n",
       "Industry: type 9           3345\n",
       "Industry: type 3           3269\n",
       "Security                   3228\n",
       "Housing                    2941\n",
       "Industry: type 11          2698\n",
       "Military                   2621\n",
       "Bank                       2484\n",
       "Agriculture                2446\n",
       "Police                     2331\n",
       "Transport: type 2          2191\n",
       "Postal                     2152\n",
       "Security Ministries        1965\n",
       "Trade: type 2              1887\n",
       "Restaurant                 1800\n",
       "Services                   1568\n",
       "University                 1322\n",
       "Industry: type 7           1301\n",
       "Transport: type 3          1181\n",
       "Industry: type 1           1038\n",
       "Hotel                       963\n",
       "Electricity                 944\n",
       "Industry: type 4            877\n",
       "Trade: type 6               628\n",
       "Insurance                   595\n",
       "Industry: type 5            595\n",
       "Telecom                     572\n",
       "Emergency                   555\n",
       "Industry: type 2            457\n",
       "Advertising                 429\n",
       "Realtor                     394\n",
       "Culture                     375\n",
       "Industry: type 12           369\n",
       "Trade: type 1               345\n",
       "Mobile                      316\n",
       "Legal Services              304\n",
       "Cleaning                    259\n",
       "Transport: type 1           200\n",
       "Industry: type 6            112\n",
       "Industry: type 10           109\n",
       "Religion                     85\n",
       "Industry: type 13            66\n",
       "Trade: type 4                64\n",
       "Trade: type 5                49\n",
       "Industry: type 8             24\n",
       "Name: ORGANIZATION_TYPE, dtype: int64"
      ]
     },
     "execution_count": 107,
     "metadata": {},
     "output_type": "execute_result"
    }
   ],
   "source": [
    "inp2.ORGANIZATION_TYPE.value_counts()"
   ]
  },
  {
   "cell_type": "code",
   "execution_count": 106,
   "id": "7fb7e756",
   "metadata": {},
   "outputs": [
    {
     "data": {
      "text/plain": [
       "(55178, 30)"
      ]
     },
     "execution_count": 106,
     "metadata": {},
     "output_type": "execute_result"
    }
   ],
   "source": [
    "inp2[inp2.ORGANIZATION_TYPE=='XNA'].shape"
   ]
  },
  {
   "cell_type": "markdown",
   "id": "efa28427",
   "metadata": {},
   "source": [
    "Since we have 55178 as XNA we cannot impute a value here as it can hamper our analysis. So better to drop these rows"
   ]
  },
  {
   "cell_type": "code",
   "execution_count": 108,
   "id": "c4bbb349",
   "metadata": {},
   "outputs": [
    {
     "data": {
      "text/plain": [
       "(0, 30)"
      ]
     },
     "execution_count": 108,
     "metadata": {},
     "output_type": "execute_result"
    }
   ],
   "source": [
    "inp2=inp2.drop(inp2.loc[inp2['ORGANIZATION_TYPE']=='XNA'].index)\n",
    "inp2[inp2.ORGANIZATION_TYPE=='XNA'].shape"
   ]
  },
  {
   "cell_type": "code",
   "execution_count": 112,
   "id": "da28da1b",
   "metadata": {},
   "outputs": [
    {
     "name": "stdout",
     "output_type": "stream",
     "text": [
      "<class 'pandas.core.frame.DataFrame'>\n",
      "Int64Index: 251029 entries, 0 to 307510\n",
      "Data columns (total 30 columns):\n",
      " #   Column                       Non-Null Count   Dtype  \n",
      "---  ------                       --------------   -----  \n",
      " 0   SK_ID_CURR                   251029 non-null  int64  \n",
      " 1   TARGET                       251029 non-null  int64  \n",
      " 2   NAME_CONTRACT_TYPE           251029 non-null  object \n",
      " 3   CODE_GENDER                  251029 non-null  object \n",
      " 4   FLAG_OWN_CAR                 251029 non-null  object \n",
      " 5   FLAG_OWN_REALTY              251029 non-null  object \n",
      " 6   CNT_CHILDREN                 251029 non-null  int64  \n",
      " 7   AMT_INCOME_TOTAL             251029 non-null  float64\n",
      " 8   AMT_CREDIT                   251029 non-null  float64\n",
      " 9   AMT_ANNUITY                  251029 non-null  float64\n",
      " 10  AMT_GOODS_PRICE              251029 non-null  float64\n",
      " 11  NAME_TYPE_SUITE              251029 non-null  object \n",
      " 12  NAME_INCOME_TYPE             251029 non-null  object \n",
      " 13  NAME_EDUCATION_TYPE          251029 non-null  object \n",
      " 14  NAME_FAMILY_STATUS           251029 non-null  object \n",
      " 15  NAME_HOUSING_TYPE            251029 non-null  object \n",
      " 16  REGION_POPULATION_RELATIVE   251029 non-null  float64\n",
      " 17  DAYS_BIRTH                   251029 non-null  int64  \n",
      " 18  DAYS_EMPLOYED                251029 non-null  int64  \n",
      " 19  DAYS_REGISTRATION            251029 non-null  float64\n",
      " 20  DAYS_ID_PUBLISH              251029 non-null  int64  \n",
      " 21  WEEKDAY_APPR_PROCESS_START   251029 non-null  object \n",
      " 22  HOUR_APPR_PROCESS_START      251029 non-null  int64  \n",
      " 23  REG_REGION_NOT_LIVE_REGION   251029 non-null  int64  \n",
      " 24  REG_REGION_NOT_WORK_REGION   251029 non-null  int64  \n",
      " 25  LIVE_REGION_NOT_WORK_REGION  251029 non-null  int64  \n",
      " 26  REG_CITY_NOT_LIVE_CITY       251029 non-null  int64  \n",
      " 27  REG_CITY_NOT_WORK_CITY       251029 non-null  int64  \n",
      " 28  LIVE_CITY_NOT_WORK_CITY      251029 non-null  int64  \n",
      " 29  ORGANIZATION_TYPE            251029 non-null  object \n",
      "dtypes: float64(6), int64(13), object(11)\n",
      "memory usage: 59.4+ MB\n"
     ]
    }
   ],
   "source": [
    "inp2.info()"
   ]
  },
  {
   "cell_type": "code",
   "execution_count": null,
   "id": "17fbdab0",
   "metadata": {},
   "outputs": [],
   "source": [
    "#REMOVING COLUMNS THAT ARE NOT USEFULL\n",
    "inp2.drop(inp2.loc[:,\"REGION_POPULATION_RELATIVE\":\"LIVE_CITY_NOT_WORK_CITY\"],axis=1,inplace=True)"
   ]
  },
  {
   "cell_type": "markdown",
   "id": "080a0495",
   "metadata": {},
   "source": [
    "#### BIVARIATE ANALYSIS"
   ]
  },
  {
   "cell_type": "code",
   "execution_count": 343,
   "id": "d138b094",
   "metadata": {},
   "outputs": [
    {
     "data": {
      "text/plain": [
       "Index(['SK_ID_CURR', 'TARGET', 'NAME_CONTRACT_TYPE', 'CODE_GENDER',\n",
       "       'FLAG_OWN_CAR', 'FLAG_OWN_REALTY', 'CNT_CHILDREN', 'AMT_INCOME_TOTAL',\n",
       "       'AMT_CREDIT', 'AMT_ANNUITY', 'AMT_GOODS_PRICE', 'NAME_TYPE_SUITE',\n",
       "       'NAME_INCOME_TYPE', 'NAME_EDUCATION_TYPE', 'NAME_FAMILY_STATUS',\n",
       "       'NAME_HOUSING_TYPE', 'ORGANIZATION_TYPE', 'AMT_INCOME_RANGE',\n",
       "       'AMT_CREDIT_RANGE'],\n",
       "      dtype='object')"
      ]
     },
     "execution_count": 343,
     "metadata": {},
     "output_type": "execute_result"
    }
   ],
   "source": [
    "inp2.columns"
   ]
  },
  {
   "cell_type": "markdown",
   "id": "1444ce03",
   "metadata": {},
   "source": [
    "1. AMT_CREDIT VS TARGET"
   ]
  },
  {
   "cell_type": "code",
   "execution_count": 377,
   "id": "88176006",
   "metadata": {},
   "outputs": [
    {
     "data": {
      "image/png": "[encoded data removed]",
      "text/plain": [
       "<Figure size 1080x432 with 1 Axes>"
      ]
     },
     "metadata": {
      "needs_background": "light"
     },
     "output_type": "display_data"
    }
   ],
   "source": [
    "plt.figure(figsize = (15, 6))\n",
    "\n",
    "sns.barplot(data=inp2,x=\"TARGET\",y=\"AMT_CREDIT\")\n",
    "plt.xticks(rotation=90)\n",
    "plt.yscale('log')\n",
    "plt.title(\"AMT_CREDIT VS TARGET\")\n",
    "plt.show()"
   ]
  },
  {
   "cell_type": "markdown",
   "id": "b0ee7bfa",
   "metadata": {},
   "source": [
    "2. INCOME VS TARGET"
   ]
  },
  {
   "cell_type": "code",
   "execution_count": 344,
   "id": "0fff5488",
   "metadata": {},
   "outputs": [
    {
     "data": {
      "image/png": "[encoded data removed]",
      "text/plain": [
       "<Figure size 1080x432 with 1 Axes>"
      ]
     },
     "metadata": {
      "needs_background": "light"
     },
     "output_type": "display_data"
    }
   ],
   "source": [
    "plt.figure(figsize = (15, 6))\n",
    "\n",
    "sns.barplot(data=inp2,x=\"TARGET\",y=\"AMT_INCOME_TOTAL\")\n",
    "plt.xticks(rotation=90)\n",
    "plt.yscale('log')\n",
    "plt.title(\"INCOME VS TARGET\")\n",
    "plt.show()"
   ]
  },
  {
   "cell_type": "markdown",
   "id": "8f85c353",
   "metadata": {},
   "source": [
    "3. BOXPLOT INCOME"
   ]
  },
  {
   "cell_type": "code",
   "execution_count": 347,
   "id": "0fef1d66",
   "metadata": {},
   "outputs": [
    {
     "data": {
      "image/png": "[encoded data removed]",
      "text/plain": [
       "<Figure size 1080x432 with 1 Axes>"
      ]
     },
     "metadata": {
      "needs_background": "light"
     },
     "output_type": "display_data"
    }
   ],
   "source": [
    "plt.figure(figsize = (15, 6))\n",
    "\n",
    "sns.boxplot(data=inp2,x=\"TARGET\",y=\"AMT_INCOME_TOTAL\")\n",
    "plt.xticks(rotation=90)\n",
    "plt.yscale('log')\n",
    "plt.title(\"INCOME VS TARGET\")\n",
    "plt.show()"
   ]
  },
  {
   "cell_type": "markdown",
   "id": "9abdd0ae",
   "metadata": {},
   "source": [
    "We can see that there are outliers in the income, but we cannot remove them because these are important values. So instead of analysing income like this, we can put the income in buckets"
   ]
  },
  {
   "cell_type": "markdown",
   "id": "0d50b412",
   "metadata": {},
   "source": [
    "4. INCOME VS INCOME TYPE"
   ]
  },
  {
   "cell_type": "code",
   "execution_count": 361,
   "id": "6d26d1c2",
   "metadata": {},
   "outputs": [
    {
     "data": {
      "image/png": "[encoded data removed]",
      "text/plain": [
       "<Figure size 1080x432 with 1 Axes>"
      ]
     },
     "metadata": {
      "needs_background": "light"
     },
     "output_type": "display_data"
    }
   ],
   "source": [
    "plt.figure(figsize = (15, 6))\n",
    "\n",
    "sns.barplot(data=inp2,x=\"NAME_INCOME_TYPE\", y=\"AMT_INCOME_TOTAL\")\n",
    "plt.xticks(rotation=90)\n",
    "plt.yscale('log')\n",
    "plt.title(\"income VS income_type\")\n",
    "plt.show()"
   ]
  },
  {
   "cell_type": "markdown",
   "id": "6455e10c",
   "metadata": {},
   "source": [
    "5. GENDER VS INCOME"
   ]
  },
  {
   "cell_type": "code",
   "execution_count": 379,
   "id": "e30c8ea0",
   "metadata": {},
   "outputs": [
    {
     "data": {
      "image/png": "[encoded data removed]",
      "text/plain": [
       "<Figure size 1080x432 with 1 Axes>"
      ]
     },
     "metadata": {
      "needs_background": "light"
     },
     "output_type": "display_data"
    }
   ],
   "source": [
    "plt.figure(figsize = (15, 6))\n",
    "\n",
    "sns.barplot(data=inp2,x=\"CODE_GENDER\",y=\"AMT_INCOME_TOTAL\")\n",
    "plt.xticks(rotation=90)\n",
    "plt.yscale('log')\n",
    "plt.title(\"AMT_CREDIT VS TARGET\")\n",
    "plt.show()"
   ]
  },
  {
   "cell_type": "code",
   "execution_count": null,
   "id": "63b2aff6",
   "metadata": {},
   "outputs": [],
   "source": []
  },
  {
   "cell_type": "markdown",
   "id": "927c7a52",
   "metadata": {},
   "source": [
    "#### Since AMT_INCOME_TOTAL,AMT_CREDIT are continous data, we will have to segregate them into bins for ploting graphs"
   ]
  },
  {
   "cell_type": "markdown",
   "id": "e6c5f904",
   "metadata": {},
   "source": [
    "1. Binning AMT_INCOME_TOTAL"
   ]
  },
  {
   "cell_type": "code",
   "execution_count": 118,
   "id": "f9b9bdb0",
   "metadata": {},
   "outputs": [
    {
     "data": {
      "text/plain": [
       "count       251029.000000\n",
       "mean        175898.461228\n",
       "std         259315.876639\n",
       "min          25650.000000\n",
       "25%         112500.000000\n",
       "50%         157500.000000\n",
       "75%         211500.000000\n",
       "max      117000000.000000\n",
       "Name: AMT_INCOME_TOTAL, dtype: object"
      ]
     },
     "execution_count": 118,
     "metadata": {},
     "output_type": "execute_result"
    }
   ],
   "source": [
    "inp2.AMT_INCOME_TOTAL.describe().apply(lambda x : format(x,'f'))"
   ]
  },
  {
   "cell_type": "code",
   "execution_count": 216,
   "id": "9c530749",
   "metadata": {},
   "outputs": [],
   "source": [
    "#creating bins and naming the bins. Creating a new column AMT_INCOME_RANGE which will consist the range of the income\n",
    "bins = [0,100000,200000,300000,400000,500000,10000000000]\n",
    "names = ['<100000', '100000-200000','200000-300000','300000-400000','400000-500000', '500000 and above']\n",
    "inp2[\"AMT_INCOME_RANGE\"]=pd.cut(inp2.AMT_INCOME_TOTAL,bins=bins,labels=names)"
   ]
  },
  {
   "cell_type": "code",
   "execution_count": 219,
   "id": "abec55b5",
   "metadata": {},
   "outputs": [
    {
     "data": {
      "text/html": [
       "<div>\n",
       "<style scoped>\n",
       "    .dataframe tbody tr th:only-of-type {\n",
       "        vertical-align: middle;\n",
       "    }\n",
       "\n",
       "    .dataframe tbody tr th {\n",
       "        vertical-align: top;\n",
       "    }\n",
       "\n",
       "    .dataframe thead th {\n",
       "        text-align: right;\n",
       "    }\n",
       "</style>\n",
       "<table border=\"1\" class=\"dataframe\">\n",
       "  <thead>\n",
       "    <tr style=\"text-align: right;\">\n",
       "      <th></th>\n",
       "      <th>SK_ID_CURR</th>\n",
       "      <th>TARGET</th>\n",
       "      <th>NAME_CONTRACT_TYPE</th>\n",
       "      <th>CODE_GENDER</th>\n",
       "      <th>FLAG_OWN_CAR</th>\n",
       "      <th>FLAG_OWN_REALTY</th>\n",
       "      <th>CNT_CHILDREN</th>\n",
       "      <th>AMT_INCOME_TOTAL</th>\n",
       "      <th>AMT_CREDIT</th>\n",
       "      <th>AMT_ANNUITY</th>\n",
       "      <th>AMT_GOODS_PRICE</th>\n",
       "      <th>NAME_TYPE_SUITE</th>\n",
       "      <th>NAME_INCOME_TYPE</th>\n",
       "      <th>NAME_EDUCATION_TYPE</th>\n",
       "      <th>NAME_FAMILY_STATUS</th>\n",
       "      <th>NAME_HOUSING_TYPE</th>\n",
       "      <th>ORGANIZATION_TYPE</th>\n",
       "      <th>AMT_INCOME_RANGE</th>\n",
       "      <th>AMT_CREDIT_RANGE</th>\n",
       "    </tr>\n",
       "  </thead>\n",
       "  <tbody>\n",
       "    <tr>\n",
       "      <th>0</th>\n",
       "      <td>100002</td>\n",
       "      <td>1</td>\n",
       "      <td>Cash loans</td>\n",
       "      <td>M</td>\n",
       "      <td>N</td>\n",
       "      <td>Y</td>\n",
       "      <td>0</td>\n",
       "      <td>202500.0</td>\n",
       "      <td>406597.5</td>\n",
       "      <td>24700.5</td>\n",
       "      <td>351000.0</td>\n",
       "      <td>Unaccompanied</td>\n",
       "      <td>Working</td>\n",
       "      <td>Secondary / secondary special</td>\n",
       "      <td>Single / not married</td>\n",
       "      <td>House / apartment</td>\n",
       "      <td>Business Entity Type 3</td>\n",
       "      <td>200000-300000</td>\n",
       "      <td>400000-500000</td>\n",
       "    </tr>\n",
       "    <tr>\n",
       "      <th>1</th>\n",
       "      <td>100003</td>\n",
       "      <td>0</td>\n",
       "      <td>Cash loans</td>\n",
       "      <td>F</td>\n",
       "      <td>N</td>\n",
       "      <td>N</td>\n",
       "      <td>0</td>\n",
       "      <td>270000.0</td>\n",
       "      <td>1293502.5</td>\n",
       "      <td>35698.5</td>\n",
       "      <td>1129500.0</td>\n",
       "      <td>Family</td>\n",
       "      <td>State servant</td>\n",
       "      <td>Higher education</td>\n",
       "      <td>Married</td>\n",
       "      <td>House / apartment</td>\n",
       "      <td>School</td>\n",
       "      <td>200000-300000</td>\n",
       "      <td>500000 and above</td>\n",
       "    </tr>\n",
       "    <tr>\n",
       "      <th>2</th>\n",
       "      <td>100004</td>\n",
       "      <td>0</td>\n",
       "      <td>Revolving loans</td>\n",
       "      <td>M</td>\n",
       "      <td>Y</td>\n",
       "      <td>Y</td>\n",
       "      <td>0</td>\n",
       "      <td>67500.0</td>\n",
       "      <td>135000.0</td>\n",
       "      <td>6750.0</td>\n",
       "      <td>135000.0</td>\n",
       "      <td>Unaccompanied</td>\n",
       "      <td>Working</td>\n",
       "      <td>Secondary / secondary special</td>\n",
       "      <td>Single / not married</td>\n",
       "      <td>House / apartment</td>\n",
       "      <td>Government</td>\n",
       "      <td>&lt;100000</td>\n",
       "      <td>100000-200000</td>\n",
       "    </tr>\n",
       "    <tr>\n",
       "      <th>3</th>\n",
       "      <td>100006</td>\n",
       "      <td>0</td>\n",
       "      <td>Cash loans</td>\n",
       "      <td>F</td>\n",
       "      <td>N</td>\n",
       "      <td>Y</td>\n",
       "      <td>0</td>\n",
       "      <td>135000.0</td>\n",
       "      <td>312682.5</td>\n",
       "      <td>29686.5</td>\n",
       "      <td>297000.0</td>\n",
       "      <td>Unaccompanied</td>\n",
       "      <td>Working</td>\n",
       "      <td>Secondary / secondary special</td>\n",
       "      <td>Civil marriage</td>\n",
       "      <td>House / apartment</td>\n",
       "      <td>Business Entity Type 3</td>\n",
       "      <td>100000-200000</td>\n",
       "      <td>300000-400000</td>\n",
       "    </tr>\n",
       "    <tr>\n",
       "      <th>4</th>\n",
       "      <td>100007</td>\n",
       "      <td>0</td>\n",
       "      <td>Cash loans</td>\n",
       "      <td>M</td>\n",
       "      <td>N</td>\n",
       "      <td>Y</td>\n",
       "      <td>0</td>\n",
       "      <td>121500.0</td>\n",
       "      <td>513000.0</td>\n",
       "      <td>21865.5</td>\n",
       "      <td>513000.0</td>\n",
       "      <td>Unaccompanied</td>\n",
       "      <td>Working</td>\n",
       "      <td>Secondary / secondary special</td>\n",
       "      <td>Single / not married</td>\n",
       "      <td>House / apartment</td>\n",
       "      <td>Religion</td>\n",
       "      <td>100000-200000</td>\n",
       "      <td>500000 and above</td>\n",
       "    </tr>\n",
       "  </tbody>\n",
       "</table>\n",
       "</div>"
      ],
      "text/plain": [
       "   SK_ID_CURR  TARGET NAME_CONTRACT_TYPE CODE_GENDER FLAG_OWN_CAR  \\\n",
       "0      100002       1         Cash loans           M            N   \n",
       "1      100003       0         Cash loans           F            N   \n",
       "2      100004       0    Revolving loans           M            Y   \n",
       "3      100006       0         Cash loans           F            N   \n",
       "4      100007       0         Cash loans           M            N   \n",
       "\n",
       "  FLAG_OWN_REALTY  CNT_CHILDREN  AMT_INCOME_TOTAL  AMT_CREDIT  AMT_ANNUITY  \\\n",
       "0               Y             0          202500.0    406597.5      24700.5   \n",
       "1               N             0          270000.0   1293502.5      35698.5   \n",
       "2               Y             0           67500.0    135000.0       6750.0   \n",
       "3               Y             0          135000.0    312682.5      29686.5   \n",
       "4               Y             0          121500.0    513000.0      21865.5   \n",
       "\n",
       "   AMT_GOODS_PRICE NAME_TYPE_SUITE NAME_INCOME_TYPE  \\\n",
       "0         351000.0   Unaccompanied          Working   \n",
       "1        1129500.0          Family    State servant   \n",
       "2         135000.0   Unaccompanied          Working   \n",
       "3         297000.0   Unaccompanied          Working   \n",
       "4         513000.0   Unaccompanied          Working   \n",
       "\n",
       "             NAME_EDUCATION_TYPE    NAME_FAMILY_STATUS  NAME_HOUSING_TYPE  \\\n",
       "0  Secondary / secondary special  Single / not married  House / apartment   \n",
       "1               Higher education               Married  House / apartment   \n",
       "2  Secondary / secondary special  Single / not married  House / apartment   \n",
       "3  Secondary / secondary special        Civil marriage  House / apartment   \n",
       "4  Secondary / secondary special  Single / not married  House / apartment   \n",
       "\n",
       "        ORGANIZATION_TYPE AMT_INCOME_RANGE  AMT_CREDIT_RANGE  \n",
       "0  Business Entity Type 3    200000-300000     400000-500000  \n",
       "1                  School    200000-300000  500000 and above  \n",
       "2              Government          <100000     100000-200000  \n",
       "3  Business Entity Type 3    100000-200000     300000-400000  \n",
       "4                Religion    100000-200000  500000 and above  "
      ]
     },
     "execution_count": 219,
     "metadata": {},
     "output_type": "execute_result"
    }
   ],
   "source": [
    "inp2.head()"
   ]
  },
  {
   "cell_type": "markdown",
   "id": "fc8255e3",
   "metadata": {},
   "source": [
    "2. Binning column AMT_CREDIT"
   ]
  },
  {
   "cell_type": "code",
   "execution_count": 198,
   "id": "4cc66cdf",
   "metadata": {},
   "outputs": [
    {
     "data": {
      "text/plain": [
       "count     251009.000000\n",
       "mean      611018.469593\n",
       "std       405850.533281\n",
       "min        45000.000000\n",
       "25%       277969.500000\n",
       "50%       521280.000000\n",
       "75%       828000.000000\n",
       "max      4050000.000000\n",
       "Name: AMT_CREDIT, dtype: object"
      ]
     },
     "execution_count": 198,
     "metadata": {},
     "output_type": "execute_result"
    }
   ],
   "source": [
    "inp2.AMT_CREDIT.describe().apply(lambda x: format(x,'f'))"
   ]
  },
  {
   "cell_type": "code",
   "execution_count": 199,
   "id": "2fc82524",
   "metadata": {},
   "outputs": [
    {
     "data": {
      "text/plain": [
       "(1751, 19)"
      ]
     },
     "execution_count": 199,
     "metadata": {},
     "output_type": "execute_result"
    }
   ],
   "source": [
    "inp2[inp2.AMT_CREDIT>2000000].shape"
   ]
  },
  {
   "cell_type": "code",
   "execution_count": 200,
   "id": "7f0dc1c0",
   "metadata": {},
   "outputs": [
    {
     "data": {
      "text/plain": [
       "array([      0,   50000,  100000,  150000,  200000,  250000,  300000,\n",
       "        350000,  400000,  450000,  500000,  550000,  600000,  650000,\n",
       "        700000,  750000,  800000,  850000,  900000,  950000, 1000000,\n",
       "       1050000, 1100000, 1150000, 1200000, 1250000, 1300000, 1350000,\n",
       "       1400000, 1450000, 1500000, 1550000, 1600000, 1650000, 1700000,\n",
       "       1750000, 1800000, 1850000, 1900000, 1950000, 2000000, 2050000,\n",
       "       2100000, 2150000, 2200000, 2250000, 2300000, 2350000, 2400000,\n",
       "       2450000, 2500000, 2550000, 2600000, 2650000, 2700000, 2750000,\n",
       "       2800000, 2850000, 2900000, 2950000, 3000000, 3050000, 3100000,\n",
       "       3150000, 3200000, 3250000, 3300000, 3350000, 3400000, 3450000,\n",
       "       3500000, 3550000, 3600000, 3650000, 3700000, 3750000, 3800000,\n",
       "       3850000, 3900000, 3950000, 4000000, 4050000, 4100000, 4150000,\n",
       "       4200000, 4250000, 4300000, 4350000, 4400000, 4450000])"
      ]
     },
     "execution_count": 200,
     "metadata": {},
     "output_type": "execute_result"
    }
   ],
   "source": [
    "np.arange(0,4500000,50000)"
   ]
  },
  {
   "cell_type": "code",
   "execution_count": 217,
   "id": "30bbea9c",
   "metadata": {},
   "outputs": [],
   "source": [
    "#creating bins and naming the bins. Creating a new column AMT_CREDIT_RANGE which will consist the range of the CREDIT\n",
    "bins = [0,100000,200000,300000,400000,500000,10000000000]\n",
    "names = ['<100000', '100000-200000','200000-300000','300000-400000','400000-500000', '500000 and above']\n",
    "inp2[\"AMT_CREDIT_RANGE\"]=pd.cut(inp2.AMT_CREDIT,bins=bins,labels=names)"
   ]
  },
  {
   "cell_type": "code",
   "execution_count": 218,
   "id": "b34b5347",
   "metadata": {},
   "outputs": [
    {
     "data": {
      "text/html": [
       "<div>\n",
       "<style scoped>\n",
       "    .dataframe tbody tr th:only-of-type {\n",
       "        vertical-align: middle;\n",
       "    }\n",
       "\n",
       "    .dataframe tbody tr th {\n",
       "        vertical-align: top;\n",
       "    }\n",
       "\n",
       "    .dataframe thead th {\n",
       "        text-align: right;\n",
       "    }\n",
       "</style>\n",
       "<table border=\"1\" class=\"dataframe\">\n",
       "  <thead>\n",
       "    <tr style=\"text-align: right;\">\n",
       "      <th></th>\n",
       "      <th>SK_ID_CURR</th>\n",
       "      <th>TARGET</th>\n",
       "      <th>NAME_CONTRACT_TYPE</th>\n",
       "      <th>CODE_GENDER</th>\n",
       "      <th>FLAG_OWN_CAR</th>\n",
       "      <th>FLAG_OWN_REALTY</th>\n",
       "      <th>CNT_CHILDREN</th>\n",
       "      <th>AMT_INCOME_TOTAL</th>\n",
       "      <th>AMT_CREDIT</th>\n",
       "      <th>AMT_ANNUITY</th>\n",
       "      <th>AMT_GOODS_PRICE</th>\n",
       "      <th>NAME_TYPE_SUITE</th>\n",
       "      <th>NAME_INCOME_TYPE</th>\n",
       "      <th>NAME_EDUCATION_TYPE</th>\n",
       "      <th>NAME_FAMILY_STATUS</th>\n",
       "      <th>NAME_HOUSING_TYPE</th>\n",
       "      <th>ORGANIZATION_TYPE</th>\n",
       "      <th>AMT_INCOME_RANGE</th>\n",
       "      <th>AMT_CREDIT_RANGE</th>\n",
       "    </tr>\n",
       "  </thead>\n",
       "  <tbody>\n",
       "    <tr>\n",
       "      <th>0</th>\n",
       "      <td>100002</td>\n",
       "      <td>1</td>\n",
       "      <td>Cash loans</td>\n",
       "      <td>M</td>\n",
       "      <td>N</td>\n",
       "      <td>Y</td>\n",
       "      <td>0</td>\n",
       "      <td>202500.0</td>\n",
       "      <td>406597.5</td>\n",
       "      <td>24700.5</td>\n",
       "      <td>351000.0</td>\n",
       "      <td>Unaccompanied</td>\n",
       "      <td>Working</td>\n",
       "      <td>Secondary / secondary special</td>\n",
       "      <td>Single / not married</td>\n",
       "      <td>House / apartment</td>\n",
       "      <td>Business Entity Type 3</td>\n",
       "      <td>200000-300000</td>\n",
       "      <td>400000-500000</td>\n",
       "    </tr>\n",
       "    <tr>\n",
       "      <th>1</th>\n",
       "      <td>100003</td>\n",
       "      <td>0</td>\n",
       "      <td>Cash loans</td>\n",
       "      <td>F</td>\n",
       "      <td>N</td>\n",
       "      <td>N</td>\n",
       "      <td>0</td>\n",
       "      <td>270000.0</td>\n",
       "      <td>1293502.5</td>\n",
       "      <td>35698.5</td>\n",
       "      <td>1129500.0</td>\n",
       "      <td>Family</td>\n",
       "      <td>State servant</td>\n",
       "      <td>Higher education</td>\n",
       "      <td>Married</td>\n",
       "      <td>House / apartment</td>\n",
       "      <td>School</td>\n",
       "      <td>200000-300000</td>\n",
       "      <td>500000 and above</td>\n",
       "    </tr>\n",
       "    <tr>\n",
       "      <th>2</th>\n",
       "      <td>100004</td>\n",
       "      <td>0</td>\n",
       "      <td>Revolving loans</td>\n",
       "      <td>M</td>\n",
       "      <td>Y</td>\n",
       "      <td>Y</td>\n",
       "      <td>0</td>\n",
       "      <td>67500.0</td>\n",
       "      <td>135000.0</td>\n",
       "      <td>6750.0</td>\n",
       "      <td>135000.0</td>\n",
       "      <td>Unaccompanied</td>\n",
       "      <td>Working</td>\n",
       "      <td>Secondary / secondary special</td>\n",
       "      <td>Single / not married</td>\n",
       "      <td>House / apartment</td>\n",
       "      <td>Government</td>\n",
       "      <td>&lt;100000</td>\n",
       "      <td>100000-200000</td>\n",
       "    </tr>\n",
       "    <tr>\n",
       "      <th>3</th>\n",
       "      <td>100006</td>\n",
       "      <td>0</td>\n",
       "      <td>Cash loans</td>\n",
       "      <td>F</td>\n",
       "      <td>N</td>\n",
       "      <td>Y</td>\n",
       "      <td>0</td>\n",
       "      <td>135000.0</td>\n",
       "      <td>312682.5</td>\n",
       "      <td>29686.5</td>\n",
       "      <td>297000.0</td>\n",
       "      <td>Unaccompanied</td>\n",
       "      <td>Working</td>\n",
       "      <td>Secondary / secondary special</td>\n",
       "      <td>Civil marriage</td>\n",
       "      <td>House / apartment</td>\n",
       "      <td>Business Entity Type 3</td>\n",
       "      <td>100000-200000</td>\n",
       "      <td>300000-400000</td>\n",
       "    </tr>\n",
       "    <tr>\n",
       "      <th>4</th>\n",
       "      <td>100007</td>\n",
       "      <td>0</td>\n",
       "      <td>Cash loans</td>\n",
       "      <td>M</td>\n",
       "      <td>N</td>\n",
       "      <td>Y</td>\n",
       "      <td>0</td>\n",
       "      <td>121500.0</td>\n",
       "      <td>513000.0</td>\n",
       "      <td>21865.5</td>\n",
       "      <td>513000.0</td>\n",
       "      <td>Unaccompanied</td>\n",
       "      <td>Working</td>\n",
       "      <td>Secondary / secondary special</td>\n",
       "      <td>Single / not married</td>\n",
       "      <td>House / apartment</td>\n",
       "      <td>Religion</td>\n",
       "      <td>100000-200000</td>\n",
       "      <td>500000 and above</td>\n",
       "    </tr>\n",
       "  </tbody>\n",
       "</table>\n",
       "</div>"
      ],
      "text/plain": [
       "   SK_ID_CURR  TARGET NAME_CONTRACT_TYPE CODE_GENDER FLAG_OWN_CAR  \\\n",
       "0      100002       1         Cash loans           M            N   \n",
       "1      100003       0         Cash loans           F            N   \n",
       "2      100004       0    Revolving loans           M            Y   \n",
       "3      100006       0         Cash loans           F            N   \n",
       "4      100007       0         Cash loans           M            N   \n",
       "\n",
       "  FLAG_OWN_REALTY  CNT_CHILDREN  AMT_INCOME_TOTAL  AMT_CREDIT  AMT_ANNUITY  \\\n",
       "0               Y             0          202500.0    406597.5      24700.5   \n",
       "1               N             0          270000.0   1293502.5      35698.5   \n",
       "2               Y             0           67500.0    135000.0       6750.0   \n",
       "3               Y             0          135000.0    312682.5      29686.5   \n",
       "4               Y             0          121500.0    513000.0      21865.5   \n",
       "\n",
       "   AMT_GOODS_PRICE NAME_TYPE_SUITE NAME_INCOME_TYPE  \\\n",
       "0         351000.0   Unaccompanied          Working   \n",
       "1        1129500.0          Family    State servant   \n",
       "2         135000.0   Unaccompanied          Working   \n",
       "3         297000.0   Unaccompanied          Working   \n",
       "4         513000.0   Unaccompanied          Working   \n",
       "\n",
       "             NAME_EDUCATION_TYPE    NAME_FAMILY_STATUS  NAME_HOUSING_TYPE  \\\n",
       "0  Secondary / secondary special  Single / not married  House / apartment   \n",
       "1               Higher education               Married  House / apartment   \n",
       "2  Secondary / secondary special  Single / not married  House / apartment   \n",
       "3  Secondary / secondary special        Civil marriage  House / apartment   \n",
       "4  Secondary / secondary special  Single / not married  House / apartment   \n",
       "\n",
       "        ORGANIZATION_TYPE AMT_INCOME_RANGE  AMT_CREDIT_RANGE  \n",
       "0  Business Entity Type 3    200000-300000     400000-500000  \n",
       "1                  School    200000-300000  500000 and above  \n",
       "2              Government          <100000     100000-200000  \n",
       "3  Business Entity Type 3    100000-200000     300000-400000  \n",
       "4                Religion    100000-200000  500000 and above  "
      ]
     },
     "execution_count": 218,
     "metadata": {},
     "output_type": "execute_result"
    }
   ],
   "source": [
    "inp2.head()"
   ]
  },
  {
   "cell_type": "code",
   "execution_count": 162,
   "id": "87280d88",
   "metadata": {},
   "outputs": [
    {
     "name": "stdout",
     "output_type": "stream",
     "text": [
      "<class 'pandas.core.frame.DataFrame'>\n",
      "Int64Index: 251029 entries, 0 to 307510\n",
      "Data columns (total 19 columns):\n",
      " #   Column               Non-Null Count   Dtype   \n",
      "---  ------               --------------   -----   \n",
      " 0   SK_ID_CURR           251029 non-null  int64   \n",
      " 1   TARGET               251029 non-null  int64   \n",
      " 2   NAME_CONTRACT_TYPE   251029 non-null  object  \n",
      " 3   CODE_GENDER          251029 non-null  object  \n",
      " 4   FLAG_OWN_CAR         251029 non-null  object  \n",
      " 5   FLAG_OWN_REALTY      251029 non-null  object  \n",
      " 6   CNT_CHILDREN         251029 non-null  int64   \n",
      " 7   AMT_INCOME_TOTAL     251029 non-null  float64 \n",
      " 8   AMT_CREDIT           251029 non-null  float64 \n",
      " 9   AMT_ANNUITY          251029 non-null  float64 \n",
      " 10  AMT_GOODS_PRICE      251029 non-null  float64 \n",
      " 11  NAME_TYPE_SUITE      251029 non-null  object  \n",
      " 12  NAME_INCOME_TYPE     251029 non-null  object  \n",
      " 13  NAME_EDUCATION_TYPE  251029 non-null  object  \n",
      " 14  NAME_FAMILY_STATUS   251029 non-null  object  \n",
      " 15  NAME_HOUSING_TYPE    251029 non-null  object  \n",
      " 16  ORGANIZATION_TYPE    251029 non-null  object  \n",
      " 17  AMT_INCOME_RANGE     251029 non-null  category\n",
      " 18  AMT_CREDIT_RANGE     251029 non-null  category\n",
      "dtypes: category(2), float64(4), int64(3), object(10)\n",
      "memory usage: 35.0+ MB\n"
     ]
    }
   ],
   "source": [
    "inp2.info()"
   ]
  },
  {
   "cell_type": "markdown",
   "id": "9e30656d",
   "metadata": {},
   "source": [
    "CHILDREN COUNT"
   ]
  },
  {
   "cell_type": "code",
   "execution_count": 167,
   "id": "f6f9c657",
   "metadata": {},
   "outputs": [
    {
     "data": {
      "text/plain": [
       "19"
      ]
     },
     "execution_count": 167,
     "metadata": {},
     "output_type": "execute_result"
    }
   ],
   "source": [
    "inp2.CNT_CHILDREN.max()"
   ]
  },
  {
   "cell_type": "markdown",
   "id": "23770783",
   "metadata": {},
   "source": [
    "The children more than 6 is absurd, so lets limit the data."
   ]
  },
  {
   "cell_type": "code",
   "execution_count": 171,
   "id": "40e55be7",
   "metadata": {},
   "outputs": [],
   "source": [
    "inp2=inp2[inp2.CNT_CHILDREN<=6]"
   ]
  },
  {
   "cell_type": "code",
   "execution_count": 176,
   "id": "06f4b769",
   "metadata": {},
   "outputs": [
    {
     "data": {
      "text/plain": [
       "array([0, 1, 2, 3, 4, 5, 6], dtype=int64)"
      ]
     },
     "execution_count": 176,
     "metadata": {},
     "output_type": "execute_result"
    }
   ],
   "source": [
    "inp2.CNT_CHILDREN.unique()"
   ]
  },
  {
   "cell_type": "code",
   "execution_count": 205,
   "id": "18f50c26",
   "metadata": {},
   "outputs": [
    {
     "data": {
      "text/plain": [
       "['200000-225000', '250000-275000', '50000-75000', '125000-150000', '100000-125000', ..., '325000-350000', '375000-400000', '400000-425000', '450000-475000', '475000-500000']\n",
       "Length: 20\n",
       "Categories (21, object): ['0-25000' < '25000-50000' < '50000-75000' < '75000-100000' ... '425000-450000' < '450000-475000' < '475000-500000' < '500000 and above']"
      ]
     },
     "execution_count": 205,
     "metadata": {},
     "output_type": "execute_result"
    }
   ],
   "source": [
    "inp2.AMT_INCOME_RANGE.unique()"
   ]
  },
  {
   "cell_type": "markdown",
   "id": "8c03968e",
   "metadata": {},
   "source": [
    "##### Dividing the dataset into two"
   ]
  },
  {
   "cell_type": "markdown",
   "id": "891e522f",
   "metadata": {},
   "source": [
    "- target = 1 (difficulty in payment)\n",
    "- target = 0 (others)"
   ]
  },
  {
   "cell_type": "code",
   "execution_count": 220,
   "id": "ba180f2f",
   "metadata": {},
   "outputs": [],
   "source": [
    "target1=inp2.loc[inp2[\"TARGET\"]==1]\n",
    "target0 = inp2.loc[inp2[\"TARGET\"]==0]"
   ]
  },
  {
   "cell_type": "code",
   "execution_count": 208,
   "id": "9187320b",
   "metadata": {},
   "outputs": [
    {
     "data": {
      "text/html": [
       "<div>\n",
       "<style scoped>\n",
       "    .dataframe tbody tr th:only-of-type {\n",
       "        vertical-align: middle;\n",
       "    }\n",
       "\n",
       "    .dataframe tbody tr th {\n",
       "        vertical-align: top;\n",
       "    }\n",
       "\n",
       "    .dataframe thead th {\n",
       "        text-align: right;\n",
       "    }\n",
       "</style>\n",
       "<table border=\"1\" class=\"dataframe\">\n",
       "  <thead>\n",
       "    <tr style=\"text-align: right;\">\n",
       "      <th></th>\n",
       "      <th>SK_ID_CURR</th>\n",
       "      <th>TARGET</th>\n",
       "      <th>NAME_CONTRACT_TYPE</th>\n",
       "      <th>CODE_GENDER</th>\n",
       "      <th>FLAG_OWN_CAR</th>\n",
       "      <th>FLAG_OWN_REALTY</th>\n",
       "      <th>CNT_CHILDREN</th>\n",
       "      <th>AMT_INCOME_TOTAL</th>\n",
       "      <th>AMT_CREDIT</th>\n",
       "      <th>AMT_ANNUITY</th>\n",
       "      <th>AMT_GOODS_PRICE</th>\n",
       "      <th>NAME_TYPE_SUITE</th>\n",
       "      <th>NAME_INCOME_TYPE</th>\n",
       "      <th>NAME_EDUCATION_TYPE</th>\n",
       "      <th>NAME_FAMILY_STATUS</th>\n",
       "      <th>NAME_HOUSING_TYPE</th>\n",
       "      <th>ORGANIZATION_TYPE</th>\n",
       "      <th>AMT_INCOME_RANGE</th>\n",
       "      <th>AMT_CREDIT_RANGE</th>\n",
       "    </tr>\n",
       "  </thead>\n",
       "  <tbody>\n",
       "    <tr>\n",
       "      <th>0</th>\n",
       "      <td>100002</td>\n",
       "      <td>1</td>\n",
       "      <td>Cash loans</td>\n",
       "      <td>M</td>\n",
       "      <td>N</td>\n",
       "      <td>Y</td>\n",
       "      <td>0</td>\n",
       "      <td>202500.0</td>\n",
       "      <td>406597.5</td>\n",
       "      <td>24700.5</td>\n",
       "      <td>351000.0</td>\n",
       "      <td>Unaccompanied</td>\n",
       "      <td>Working</td>\n",
       "      <td>Secondary / secondary special</td>\n",
       "      <td>Single / not married</td>\n",
       "      <td>House / apartment</td>\n",
       "      <td>Business Entity Type 3</td>\n",
       "      <td>200000-225000</td>\n",
       "      <td>400000-450000</td>\n",
       "    </tr>\n",
       "    <tr>\n",
       "      <th>26</th>\n",
       "      <td>100031</td>\n",
       "      <td>1</td>\n",
       "      <td>Cash loans</td>\n",
       "      <td>F</td>\n",
       "      <td>N</td>\n",
       "      <td>Y</td>\n",
       "      <td>0</td>\n",
       "      <td>112500.0</td>\n",
       "      <td>979992.0</td>\n",
       "      <td>27076.5</td>\n",
       "      <td>702000.0</td>\n",
       "      <td>Unaccompanied</td>\n",
       "      <td>Working</td>\n",
       "      <td>Secondary / secondary special</td>\n",
       "      <td>Widow</td>\n",
       "      <td>House / apartment</td>\n",
       "      <td>Business Entity Type 3</td>\n",
       "      <td>100000-125000</td>\n",
       "      <td>900000-1000000</td>\n",
       "    </tr>\n",
       "    <tr>\n",
       "      <th>40</th>\n",
       "      <td>100047</td>\n",
       "      <td>1</td>\n",
       "      <td>Cash loans</td>\n",
       "      <td>M</td>\n",
       "      <td>N</td>\n",
       "      <td>Y</td>\n",
       "      <td>0</td>\n",
       "      <td>202500.0</td>\n",
       "      <td>1193580.0</td>\n",
       "      <td>35028.0</td>\n",
       "      <td>855000.0</td>\n",
       "      <td>Unaccompanied</td>\n",
       "      <td>Commercial associate</td>\n",
       "      <td>Secondary / secondary special</td>\n",
       "      <td>Married</td>\n",
       "      <td>House / apartment</td>\n",
       "      <td>Business Entity Type 3</td>\n",
       "      <td>200000-225000</td>\n",
       "      <td>1000000-2000000</td>\n",
       "    </tr>\n",
       "    <tr>\n",
       "      <th>42</th>\n",
       "      <td>100049</td>\n",
       "      <td>1</td>\n",
       "      <td>Cash loans</td>\n",
       "      <td>F</td>\n",
       "      <td>N</td>\n",
       "      <td>N</td>\n",
       "      <td>0</td>\n",
       "      <td>135000.0</td>\n",
       "      <td>288873.0</td>\n",
       "      <td>16258.5</td>\n",
       "      <td>238500.0</td>\n",
       "      <td>Unaccompanied</td>\n",
       "      <td>Working</td>\n",
       "      <td>Secondary / secondary special</td>\n",
       "      <td>Civil marriage</td>\n",
       "      <td>House / apartment</td>\n",
       "      <td>Self-employed</td>\n",
       "      <td>125000-150000</td>\n",
       "      <td>250000-300000</td>\n",
       "    </tr>\n",
       "    <tr>\n",
       "      <th>94</th>\n",
       "      <td>100112</td>\n",
       "      <td>1</td>\n",
       "      <td>Cash loans</td>\n",
       "      <td>M</td>\n",
       "      <td>Y</td>\n",
       "      <td>Y</td>\n",
       "      <td>0</td>\n",
       "      <td>315000.0</td>\n",
       "      <td>953460.0</td>\n",
       "      <td>64107.0</td>\n",
       "      <td>900000.0</td>\n",
       "      <td>Family</td>\n",
       "      <td>Commercial associate</td>\n",
       "      <td>Incomplete higher</td>\n",
       "      <td>Single / not married</td>\n",
       "      <td>With parents</td>\n",
       "      <td>Industry: type 4</td>\n",
       "      <td>300000-325000</td>\n",
       "      <td>900000-1000000</td>\n",
       "    </tr>\n",
       "  </tbody>\n",
       "</table>\n",
       "</div>"
      ],
      "text/plain": [
       "    SK_ID_CURR  TARGET NAME_CONTRACT_TYPE CODE_GENDER FLAG_OWN_CAR  \\\n",
       "0       100002       1         Cash loans           M            N   \n",
       "26      100031       1         Cash loans           F            N   \n",
       "40      100047       1         Cash loans           M            N   \n",
       "42      100049       1         Cash loans           F            N   \n",
       "94      100112       1         Cash loans           M            Y   \n",
       "\n",
       "   FLAG_OWN_REALTY  CNT_CHILDREN  AMT_INCOME_TOTAL  AMT_CREDIT  AMT_ANNUITY  \\\n",
       "0                Y             0          202500.0    406597.5      24700.5   \n",
       "26               Y             0          112500.0    979992.0      27076.5   \n",
       "40               Y             0          202500.0   1193580.0      35028.0   \n",
       "42               N             0          135000.0    288873.0      16258.5   \n",
       "94               Y             0          315000.0    953460.0      64107.0   \n",
       "\n",
       "    AMT_GOODS_PRICE NAME_TYPE_SUITE      NAME_INCOME_TYPE  \\\n",
       "0          351000.0   Unaccompanied               Working   \n",
       "26         702000.0   Unaccompanied               Working   \n",
       "40         855000.0   Unaccompanied  Commercial associate   \n",
       "42         238500.0   Unaccompanied               Working   \n",
       "94         900000.0          Family  Commercial associate   \n",
       "\n",
       "              NAME_EDUCATION_TYPE    NAME_FAMILY_STATUS  NAME_HOUSING_TYPE  \\\n",
       "0   Secondary / secondary special  Single / not married  House / apartment   \n",
       "26  Secondary / secondary special                 Widow  House / apartment   \n",
       "40  Secondary / secondary special               Married  House / apartment   \n",
       "42  Secondary / secondary special        Civil marriage  House / apartment   \n",
       "94              Incomplete higher  Single / not married       With parents   \n",
       "\n",
       "         ORGANIZATION_TYPE AMT_INCOME_RANGE AMT_CREDIT_RANGE  \n",
       "0   Business Entity Type 3    200000-225000    400000-450000  \n",
       "26  Business Entity Type 3    100000-125000   900000-1000000  \n",
       "40  Business Entity Type 3    200000-225000  1000000-2000000  \n",
       "42           Self-employed    125000-150000    250000-300000  \n",
       "94        Industry: type 4    300000-325000   900000-1000000  "
      ]
     },
     "execution_count": 208,
     "metadata": {},
     "output_type": "execute_result"
    }
   ],
   "source": [
    "target1.head()"
   ]
  },
  {
   "cell_type": "code",
   "execution_count": 221,
   "id": "63ad8b0c",
   "metadata": {},
   "outputs": [
    {
     "data": {
      "text/html": [
       "<div>\n",
       "<style scoped>\n",
       "    .dataframe tbody tr th:only-of-type {\n",
       "        vertical-align: middle;\n",
       "    }\n",
       "\n",
       "    .dataframe tbody tr th {\n",
       "        vertical-align: top;\n",
       "    }\n",
       "\n",
       "    .dataframe thead th {\n",
       "        text-align: right;\n",
       "    }\n",
       "</style>\n",
       "<table border=\"1\" class=\"dataframe\">\n",
       "  <thead>\n",
       "    <tr style=\"text-align: right;\">\n",
       "      <th></th>\n",
       "      <th>SK_ID_CURR</th>\n",
       "      <th>TARGET</th>\n",
       "      <th>NAME_CONTRACT_TYPE</th>\n",
       "      <th>CODE_GENDER</th>\n",
       "      <th>FLAG_OWN_CAR</th>\n",
       "      <th>FLAG_OWN_REALTY</th>\n",
       "      <th>CNT_CHILDREN</th>\n",
       "      <th>AMT_INCOME_TOTAL</th>\n",
       "      <th>AMT_CREDIT</th>\n",
       "      <th>AMT_ANNUITY</th>\n",
       "      <th>AMT_GOODS_PRICE</th>\n",
       "      <th>NAME_TYPE_SUITE</th>\n",
       "      <th>NAME_INCOME_TYPE</th>\n",
       "      <th>NAME_EDUCATION_TYPE</th>\n",
       "      <th>NAME_FAMILY_STATUS</th>\n",
       "      <th>NAME_HOUSING_TYPE</th>\n",
       "      <th>ORGANIZATION_TYPE</th>\n",
       "      <th>AMT_INCOME_RANGE</th>\n",
       "      <th>AMT_CREDIT_RANGE</th>\n",
       "    </tr>\n",
       "  </thead>\n",
       "  <tbody>\n",
       "    <tr>\n",
       "      <th>1</th>\n",
       "      <td>100003</td>\n",
       "      <td>0</td>\n",
       "      <td>Cash loans</td>\n",
       "      <td>F</td>\n",
       "      <td>N</td>\n",
       "      <td>N</td>\n",
       "      <td>0</td>\n",
       "      <td>270000.0</td>\n",
       "      <td>1293502.5</td>\n",
       "      <td>35698.5</td>\n",
       "      <td>1129500.0</td>\n",
       "      <td>Family</td>\n",
       "      <td>State servant</td>\n",
       "      <td>Higher education</td>\n",
       "      <td>Married</td>\n",
       "      <td>House / apartment</td>\n",
       "      <td>School</td>\n",
       "      <td>200000-300000</td>\n",
       "      <td>500000 and above</td>\n",
       "    </tr>\n",
       "    <tr>\n",
       "      <th>2</th>\n",
       "      <td>100004</td>\n",
       "      <td>0</td>\n",
       "      <td>Revolving loans</td>\n",
       "      <td>M</td>\n",
       "      <td>Y</td>\n",
       "      <td>Y</td>\n",
       "      <td>0</td>\n",
       "      <td>67500.0</td>\n",
       "      <td>135000.0</td>\n",
       "      <td>6750.0</td>\n",
       "      <td>135000.0</td>\n",
       "      <td>Unaccompanied</td>\n",
       "      <td>Working</td>\n",
       "      <td>Secondary / secondary special</td>\n",
       "      <td>Single / not married</td>\n",
       "      <td>House / apartment</td>\n",
       "      <td>Government</td>\n",
       "      <td>&lt;100000</td>\n",
       "      <td>100000-200000</td>\n",
       "    </tr>\n",
       "    <tr>\n",
       "      <th>3</th>\n",
       "      <td>100006</td>\n",
       "      <td>0</td>\n",
       "      <td>Cash loans</td>\n",
       "      <td>F</td>\n",
       "      <td>N</td>\n",
       "      <td>Y</td>\n",
       "      <td>0</td>\n",
       "      <td>135000.0</td>\n",
       "      <td>312682.5</td>\n",
       "      <td>29686.5</td>\n",
       "      <td>297000.0</td>\n",
       "      <td>Unaccompanied</td>\n",
       "      <td>Working</td>\n",
       "      <td>Secondary / secondary special</td>\n",
       "      <td>Civil marriage</td>\n",
       "      <td>House / apartment</td>\n",
       "      <td>Business Entity Type 3</td>\n",
       "      <td>100000-200000</td>\n",
       "      <td>300000-400000</td>\n",
       "    </tr>\n",
       "    <tr>\n",
       "      <th>4</th>\n",
       "      <td>100007</td>\n",
       "      <td>0</td>\n",
       "      <td>Cash loans</td>\n",
       "      <td>M</td>\n",
       "      <td>N</td>\n",
       "      <td>Y</td>\n",
       "      <td>0</td>\n",
       "      <td>121500.0</td>\n",
       "      <td>513000.0</td>\n",
       "      <td>21865.5</td>\n",
       "      <td>513000.0</td>\n",
       "      <td>Unaccompanied</td>\n",
       "      <td>Working</td>\n",
       "      <td>Secondary / secondary special</td>\n",
       "      <td>Single / not married</td>\n",
       "      <td>House / apartment</td>\n",
       "      <td>Religion</td>\n",
       "      <td>100000-200000</td>\n",
       "      <td>500000 and above</td>\n",
       "    </tr>\n",
       "    <tr>\n",
       "      <th>5</th>\n",
       "      <td>100008</td>\n",
       "      <td>0</td>\n",
       "      <td>Cash loans</td>\n",
       "      <td>M</td>\n",
       "      <td>N</td>\n",
       "      <td>Y</td>\n",
       "      <td>0</td>\n",
       "      <td>99000.0</td>\n",
       "      <td>490495.5</td>\n",
       "      <td>27517.5</td>\n",
       "      <td>454500.0</td>\n",
       "      <td>Spouse, partner</td>\n",
       "      <td>State servant</td>\n",
       "      <td>Secondary / secondary special</td>\n",
       "      <td>Married</td>\n",
       "      <td>House / apartment</td>\n",
       "      <td>Other</td>\n",
       "      <td>&lt;100000</td>\n",
       "      <td>400000-500000</td>\n",
       "    </tr>\n",
       "  </tbody>\n",
       "</table>\n",
       "</div>"
      ],
      "text/plain": [
       "   SK_ID_CURR  TARGET NAME_CONTRACT_TYPE CODE_GENDER FLAG_OWN_CAR  \\\n",
       "1      100003       0         Cash loans           F            N   \n",
       "2      100004       0    Revolving loans           M            Y   \n",
       "3      100006       0         Cash loans           F            N   \n",
       "4      100007       0         Cash loans           M            N   \n",
       "5      100008       0         Cash loans           M            N   \n",
       "\n",
       "  FLAG_OWN_REALTY  CNT_CHILDREN  AMT_INCOME_TOTAL  AMT_CREDIT  AMT_ANNUITY  \\\n",
       "1               N             0          270000.0   1293502.5      35698.5   \n",
       "2               Y             0           67500.0    135000.0       6750.0   \n",
       "3               Y             0          135000.0    312682.5      29686.5   \n",
       "4               Y             0          121500.0    513000.0      21865.5   \n",
       "5               Y             0           99000.0    490495.5      27517.5   \n",
       "\n",
       "   AMT_GOODS_PRICE  NAME_TYPE_SUITE NAME_INCOME_TYPE  \\\n",
       "1        1129500.0           Family    State servant   \n",
       "2         135000.0    Unaccompanied          Working   \n",
       "3         297000.0    Unaccompanied          Working   \n",
       "4         513000.0    Unaccompanied          Working   \n",
       "5         454500.0  Spouse, partner    State servant   \n",
       "\n",
       "             NAME_EDUCATION_TYPE    NAME_FAMILY_STATUS  NAME_HOUSING_TYPE  \\\n",
       "1               Higher education               Married  House / apartment   \n",
       "2  Secondary / secondary special  Single / not married  House / apartment   \n",
       "3  Secondary / secondary special        Civil marriage  House / apartment   \n",
       "4  Secondary / secondary special  Single / not married  House / apartment   \n",
       "5  Secondary / secondary special               Married  House / apartment   \n",
       "\n",
       "        ORGANIZATION_TYPE AMT_INCOME_RANGE  AMT_CREDIT_RANGE  \n",
       "1                  School    200000-300000  500000 and above  \n",
       "2              Government          <100000     100000-200000  \n",
       "3  Business Entity Type 3    100000-200000     300000-400000  \n",
       "4                Religion    100000-200000  500000 and above  \n",
       "5                   Other          <100000     400000-500000  "
      ]
     },
     "execution_count": 221,
     "metadata": {},
     "output_type": "execute_result"
    }
   ],
   "source": [
    "target0.head()"
   ]
  },
  {
   "cell_type": "markdown",
   "id": "1e84133b",
   "metadata": {},
   "source": [
    "#### UNIVARIATE CATEGORICAL ANALYSIS"
   ]
  },
  {
   "cell_type": "code",
   "execution_count": 222,
   "id": "2bb81f28",
   "metadata": {
    "scrolled": true
   },
   "outputs": [
    {
     "data": {
      "text/html": [
       "<div>\n",
       "<style scoped>\n",
       "    .dataframe tbody tr th:only-of-type {\n",
       "        vertical-align: middle;\n",
       "    }\n",
       "\n",
       "    .dataframe tbody tr th {\n",
       "        vertical-align: top;\n",
       "    }\n",
       "\n",
       "    .dataframe thead th {\n",
       "        text-align: right;\n",
       "    }\n",
       "</style>\n",
       "<table border=\"1\" class=\"dataframe\">\n",
       "  <thead>\n",
       "    <tr style=\"text-align: right;\">\n",
       "      <th></th>\n",
       "      <th>SK_ID_CURR</th>\n",
       "      <th>TARGET</th>\n",
       "      <th>NAME_CONTRACT_TYPE</th>\n",
       "      <th>CODE_GENDER</th>\n",
       "      <th>FLAG_OWN_CAR</th>\n",
       "      <th>FLAG_OWN_REALTY</th>\n",
       "      <th>CNT_CHILDREN</th>\n",
       "      <th>AMT_INCOME_TOTAL</th>\n",
       "      <th>AMT_CREDIT</th>\n",
       "      <th>AMT_ANNUITY</th>\n",
       "      <th>AMT_GOODS_PRICE</th>\n",
       "      <th>NAME_TYPE_SUITE</th>\n",
       "      <th>NAME_INCOME_TYPE</th>\n",
       "      <th>NAME_EDUCATION_TYPE</th>\n",
       "      <th>NAME_FAMILY_STATUS</th>\n",
       "      <th>NAME_HOUSING_TYPE</th>\n",
       "      <th>ORGANIZATION_TYPE</th>\n",
       "      <th>AMT_INCOME_RANGE</th>\n",
       "      <th>AMT_CREDIT_RANGE</th>\n",
       "    </tr>\n",
       "  </thead>\n",
       "  <tbody>\n",
       "    <tr>\n",
       "      <th>0</th>\n",
       "      <td>100002</td>\n",
       "      <td>1</td>\n",
       "      <td>Cash loans</td>\n",
       "      <td>M</td>\n",
       "      <td>N</td>\n",
       "      <td>Y</td>\n",
       "      <td>0</td>\n",
       "      <td>202500.0</td>\n",
       "      <td>406597.5</td>\n",
       "      <td>24700.5</td>\n",
       "      <td>351000.0</td>\n",
       "      <td>Unaccompanied</td>\n",
       "      <td>Working</td>\n",
       "      <td>Secondary / secondary special</td>\n",
       "      <td>Single / not married</td>\n",
       "      <td>House / apartment</td>\n",
       "      <td>Business Entity Type 3</td>\n",
       "      <td>200000-300000</td>\n",
       "      <td>400000-500000</td>\n",
       "    </tr>\n",
       "    <tr>\n",
       "      <th>1</th>\n",
       "      <td>100003</td>\n",
       "      <td>0</td>\n",
       "      <td>Cash loans</td>\n",
       "      <td>F</td>\n",
       "      <td>N</td>\n",
       "      <td>N</td>\n",
       "      <td>0</td>\n",
       "      <td>270000.0</td>\n",
       "      <td>1293502.5</td>\n",
       "      <td>35698.5</td>\n",
       "      <td>1129500.0</td>\n",
       "      <td>Family</td>\n",
       "      <td>State servant</td>\n",
       "      <td>Higher education</td>\n",
       "      <td>Married</td>\n",
       "      <td>House / apartment</td>\n",
       "      <td>School</td>\n",
       "      <td>200000-300000</td>\n",
       "      <td>500000 and above</td>\n",
       "    </tr>\n",
       "    <tr>\n",
       "      <th>2</th>\n",
       "      <td>100004</td>\n",
       "      <td>0</td>\n",
       "      <td>Revolving loans</td>\n",
       "      <td>M</td>\n",
       "      <td>Y</td>\n",
       "      <td>Y</td>\n",
       "      <td>0</td>\n",
       "      <td>67500.0</td>\n",
       "      <td>135000.0</td>\n",
       "      <td>6750.0</td>\n",
       "      <td>135000.0</td>\n",
       "      <td>Unaccompanied</td>\n",
       "      <td>Working</td>\n",
       "      <td>Secondary / secondary special</td>\n",
       "      <td>Single / not married</td>\n",
       "      <td>House / apartment</td>\n",
       "      <td>Government</td>\n",
       "      <td>&lt;100000</td>\n",
       "      <td>100000-200000</td>\n",
       "    </tr>\n",
       "    <tr>\n",
       "      <th>3</th>\n",
       "      <td>100006</td>\n",
       "      <td>0</td>\n",
       "      <td>Cash loans</td>\n",
       "      <td>F</td>\n",
       "      <td>N</td>\n",
       "      <td>Y</td>\n",
       "      <td>0</td>\n",
       "      <td>135000.0</td>\n",
       "      <td>312682.5</td>\n",
       "      <td>29686.5</td>\n",
       "      <td>297000.0</td>\n",
       "      <td>Unaccompanied</td>\n",
       "      <td>Working</td>\n",
       "      <td>Secondary / secondary special</td>\n",
       "      <td>Civil marriage</td>\n",
       "      <td>House / apartment</td>\n",
       "      <td>Business Entity Type 3</td>\n",
       "      <td>100000-200000</td>\n",
       "      <td>300000-400000</td>\n",
       "    </tr>\n",
       "    <tr>\n",
       "      <th>4</th>\n",
       "      <td>100007</td>\n",
       "      <td>0</td>\n",
       "      <td>Cash loans</td>\n",
       "      <td>M</td>\n",
       "      <td>N</td>\n",
       "      <td>Y</td>\n",
       "      <td>0</td>\n",
       "      <td>121500.0</td>\n",
       "      <td>513000.0</td>\n",
       "      <td>21865.5</td>\n",
       "      <td>513000.0</td>\n",
       "      <td>Unaccompanied</td>\n",
       "      <td>Working</td>\n",
       "      <td>Secondary / secondary special</td>\n",
       "      <td>Single / not married</td>\n",
       "      <td>House / apartment</td>\n",
       "      <td>Religion</td>\n",
       "      <td>100000-200000</td>\n",
       "      <td>500000 and above</td>\n",
       "    </tr>\n",
       "  </tbody>\n",
       "</table>\n",
       "</div>"
      ],
      "text/plain": [
       "   SK_ID_CURR  TARGET NAME_CONTRACT_TYPE CODE_GENDER FLAG_OWN_CAR  \\\n",
       "0      100002       1         Cash loans           M            N   \n",
       "1      100003       0         Cash loans           F            N   \n",
       "2      100004       0    Revolving loans           M            Y   \n",
       "3      100006       0         Cash loans           F            N   \n",
       "4      100007       0         Cash loans           M            N   \n",
       "\n",
       "  FLAG_OWN_REALTY  CNT_CHILDREN  AMT_INCOME_TOTAL  AMT_CREDIT  AMT_ANNUITY  \\\n",
       "0               Y             0          202500.0    406597.5      24700.5   \n",
       "1               N             0          270000.0   1293502.5      35698.5   \n",
       "2               Y             0           67500.0    135000.0       6750.0   \n",
       "3               Y             0          135000.0    312682.5      29686.5   \n",
       "4               Y             0          121500.0    513000.0      21865.5   \n",
       "\n",
       "   AMT_GOODS_PRICE NAME_TYPE_SUITE NAME_INCOME_TYPE  \\\n",
       "0         351000.0   Unaccompanied          Working   \n",
       "1        1129500.0          Family    State servant   \n",
       "2         135000.0   Unaccompanied          Working   \n",
       "3         297000.0   Unaccompanied          Working   \n",
       "4         513000.0   Unaccompanied          Working   \n",
       "\n",
       "             NAME_EDUCATION_TYPE    NAME_FAMILY_STATUS  NAME_HOUSING_TYPE  \\\n",
       "0  Secondary / secondary special  Single / not married  House / apartment   \n",
       "1               Higher education               Married  House / apartment   \n",
       "2  Secondary / secondary special  Single / not married  House / apartment   \n",
       "3  Secondary / secondary special        Civil marriage  House / apartment   \n",
       "4  Secondary / secondary special  Single / not married  House / apartment   \n",
       "\n",
       "        ORGANIZATION_TYPE AMT_INCOME_RANGE  AMT_CREDIT_RANGE  \n",
       "0  Business Entity Type 3    200000-300000     400000-500000  \n",
       "1                  School    200000-300000  500000 and above  \n",
       "2              Government          <100000     100000-200000  \n",
       "3  Business Entity Type 3    100000-200000     300000-400000  \n",
       "4                Religion    100000-200000  500000 and above  "
      ]
     },
     "execution_count": 222,
     "metadata": {},
     "output_type": "execute_result"
    }
   ],
   "source": [
    "inp2.head()"
   ]
  },
  {
   "cell_type": "markdown",
   "id": "3663b456",
   "metadata": {},
   "source": [
    "##### UNIVARIATE ANALYSIS"
   ]
  },
  {
   "cell_type": "markdown",
   "id": "90024711",
   "metadata": {},
   "source": [
    "##### 1. TARGET VS INCOME RANGE"
   ]
  },
  {
   "cell_type": "code",
   "execution_count": 223,
   "id": "0dd12e09",
   "metadata": {},
   "outputs": [
    {
     "data": {
      "image/png": "[encoded data removed]",
      "text/plain": [
       "<Figure size 1080x576 with 1 Axes>"
      ]
     },
     "metadata": {
      "needs_background": "light"
     },
     "output_type": "display_data"
    }
   ],
   "source": [
    "plt.figure(figsize = (15, 8))\n",
    "\n",
    "sns.countplot(data=inp2,x=\"AMT_INCOME_RANGE\",hue=\"TARGET\")\n",
    "plt.xticks(rotation=90)\n",
    "plt.yscale('log')\n",
    "plt.show()"
   ]
  },
  {
   "cell_type": "markdown",
   "id": "9dc1a9ae",
   "metadata": {},
   "source": [
    "OUTCOME FROM ABOVE GRAPH\n",
    "\n",
    " --PEOPLE WITH INCOME RANGE (<100k,100k-200k,200k-300k) have high defaulters"
   ]
  },
  {
   "cell_type": "markdown",
   "id": "c7a3dc81",
   "metadata": {},
   "source": [
    "##### TARGET VS GENDER"
   ]
  },
  {
   "cell_type": "code",
   "execution_count": 283,
   "id": "c78835b8",
   "metadata": {},
   "outputs": [
    {
     "data": {
      "image/png": "[encoded data removed]",
      "text/plain": [
       "<Figure size 1080x576 with 1 Axes>"
      ]
     },
     "metadata": {
      "needs_background": "light"
     },
     "output_type": "display_data"
    }
   ],
   "source": [
    "plt.figure(figsize = (15, 8))\n",
    "\n",
    "sns.countplot(data=inp2,x=\"CODE_GENDER\",hue=\"TARGET\",color=\"blue\")\n",
    "plt.xticks(rotation=90)\n",
    "plt.yscale('log')\n",
    "plt.title(\"TARGET VS GENDER\")\n",
    "plt.show()"
   ]
  },
  {
   "cell_type": "markdown",
   "id": "b0912afa",
   "metadata": {},
   "source": [
    "OUTCOME :\n",
    "\n",
    "    FEMALES ARE FACING MORE DIFFICULTIES IN PAYING THE LOAN"
   ]
  },
  {
   "cell_type": "code",
   "execution_count": 235,
   "id": "f206cb16",
   "metadata": {},
   "outputs": [
    {
     "data": {
      "text/html": [
       "<div>\n",
       "<style scoped>\n",
       "    .dataframe tbody tr th:only-of-type {\n",
       "        vertical-align: middle;\n",
       "    }\n",
       "\n",
       "    .dataframe tbody tr th {\n",
       "        vertical-align: top;\n",
       "    }\n",
       "\n",
       "    .dataframe thead th {\n",
       "        text-align: right;\n",
       "    }\n",
       "</style>\n",
       "<table border=\"1\" class=\"dataframe\">\n",
       "  <thead>\n",
       "    <tr style=\"text-align: right;\">\n",
       "      <th></th>\n",
       "      <th>SK_ID_CURR</th>\n",
       "      <th>TARGET</th>\n",
       "      <th>NAME_CONTRACT_TYPE</th>\n",
       "      <th>CODE_GENDER</th>\n",
       "      <th>FLAG_OWN_CAR</th>\n",
       "      <th>FLAG_OWN_REALTY</th>\n",
       "      <th>CNT_CHILDREN</th>\n",
       "      <th>AMT_INCOME_TOTAL</th>\n",
       "      <th>AMT_CREDIT</th>\n",
       "      <th>AMT_ANNUITY</th>\n",
       "      <th>AMT_GOODS_PRICE</th>\n",
       "      <th>NAME_TYPE_SUITE</th>\n",
       "      <th>NAME_INCOME_TYPE</th>\n",
       "      <th>NAME_EDUCATION_TYPE</th>\n",
       "      <th>NAME_FAMILY_STATUS</th>\n",
       "      <th>NAME_HOUSING_TYPE</th>\n",
       "      <th>ORGANIZATION_TYPE</th>\n",
       "      <th>AMT_INCOME_RANGE</th>\n",
       "      <th>AMT_CREDIT_RANGE</th>\n",
       "    </tr>\n",
       "  </thead>\n",
       "  <tbody>\n",
       "    <tr>\n",
       "      <th>0</th>\n",
       "      <td>100002</td>\n",
       "      <td>1</td>\n",
       "      <td>Cash loans</td>\n",
       "      <td>M</td>\n",
       "      <td>N</td>\n",
       "      <td>Y</td>\n",
       "      <td>0</td>\n",
       "      <td>202500.0</td>\n",
       "      <td>406597.5</td>\n",
       "      <td>24700.5</td>\n",
       "      <td>351000.0</td>\n",
       "      <td>Unaccompanied</td>\n",
       "      <td>Working</td>\n",
       "      <td>Secondary / secondary special</td>\n",
       "      <td>Single / not married</td>\n",
       "      <td>House / apartment</td>\n",
       "      <td>Business Entity Type 3</td>\n",
       "      <td>200000-300000</td>\n",
       "      <td>400000-500000</td>\n",
       "    </tr>\n",
       "    <tr>\n",
       "      <th>1</th>\n",
       "      <td>100003</td>\n",
       "      <td>0</td>\n",
       "      <td>Cash loans</td>\n",
       "      <td>F</td>\n",
       "      <td>N</td>\n",
       "      <td>N</td>\n",
       "      <td>0</td>\n",
       "      <td>270000.0</td>\n",
       "      <td>1293502.5</td>\n",
       "      <td>35698.5</td>\n",
       "      <td>1129500.0</td>\n",
       "      <td>Family</td>\n",
       "      <td>State servant</td>\n",
       "      <td>Higher education</td>\n",
       "      <td>Married</td>\n",
       "      <td>House / apartment</td>\n",
       "      <td>School</td>\n",
       "      <td>200000-300000</td>\n",
       "      <td>500000 and above</td>\n",
       "    </tr>\n",
       "    <tr>\n",
       "      <th>2</th>\n",
       "      <td>100004</td>\n",
       "      <td>0</td>\n",
       "      <td>Revolving loans</td>\n",
       "      <td>M</td>\n",
       "      <td>Y</td>\n",
       "      <td>Y</td>\n",
       "      <td>0</td>\n",
       "      <td>67500.0</td>\n",
       "      <td>135000.0</td>\n",
       "      <td>6750.0</td>\n",
       "      <td>135000.0</td>\n",
       "      <td>Unaccompanied</td>\n",
       "      <td>Working</td>\n",
       "      <td>Secondary / secondary special</td>\n",
       "      <td>Single / not married</td>\n",
       "      <td>House / apartment</td>\n",
       "      <td>Government</td>\n",
       "      <td>&lt;100000</td>\n",
       "      <td>100000-200000</td>\n",
       "    </tr>\n",
       "    <tr>\n",
       "      <th>3</th>\n",
       "      <td>100006</td>\n",
       "      <td>0</td>\n",
       "      <td>Cash loans</td>\n",
       "      <td>F</td>\n",
       "      <td>N</td>\n",
       "      <td>Y</td>\n",
       "      <td>0</td>\n",
       "      <td>135000.0</td>\n",
       "      <td>312682.5</td>\n",
       "      <td>29686.5</td>\n",
       "      <td>297000.0</td>\n",
       "      <td>Unaccompanied</td>\n",
       "      <td>Working</td>\n",
       "      <td>Secondary / secondary special</td>\n",
       "      <td>Civil marriage</td>\n",
       "      <td>House / apartment</td>\n",
       "      <td>Business Entity Type 3</td>\n",
       "      <td>100000-200000</td>\n",
       "      <td>300000-400000</td>\n",
       "    </tr>\n",
       "    <tr>\n",
       "      <th>4</th>\n",
       "      <td>100007</td>\n",
       "      <td>0</td>\n",
       "      <td>Cash loans</td>\n",
       "      <td>M</td>\n",
       "      <td>N</td>\n",
       "      <td>Y</td>\n",
       "      <td>0</td>\n",
       "      <td>121500.0</td>\n",
       "      <td>513000.0</td>\n",
       "      <td>21865.5</td>\n",
       "      <td>513000.0</td>\n",
       "      <td>Unaccompanied</td>\n",
       "      <td>Working</td>\n",
       "      <td>Secondary / secondary special</td>\n",
       "      <td>Single / not married</td>\n",
       "      <td>House / apartment</td>\n",
       "      <td>Religion</td>\n",
       "      <td>100000-200000</td>\n",
       "      <td>500000 and above</td>\n",
       "    </tr>\n",
       "  </tbody>\n",
       "</table>\n",
       "</div>"
      ],
      "text/plain": [
       "   SK_ID_CURR  TARGET NAME_CONTRACT_TYPE CODE_GENDER FLAG_OWN_CAR  \\\n",
       "0      100002       1         Cash loans           M            N   \n",
       "1      100003       0         Cash loans           F            N   \n",
       "2      100004       0    Revolving loans           M            Y   \n",
       "3      100006       0         Cash loans           F            N   \n",
       "4      100007       0         Cash loans           M            N   \n",
       "\n",
       "  FLAG_OWN_REALTY  CNT_CHILDREN  AMT_INCOME_TOTAL  AMT_CREDIT  AMT_ANNUITY  \\\n",
       "0               Y             0          202500.0    406597.5      24700.5   \n",
       "1               N             0          270000.0   1293502.5      35698.5   \n",
       "2               Y             0           67500.0    135000.0       6750.0   \n",
       "3               Y             0          135000.0    312682.5      29686.5   \n",
       "4               Y             0          121500.0    513000.0      21865.5   \n",
       "\n",
       "   AMT_GOODS_PRICE NAME_TYPE_SUITE NAME_INCOME_TYPE  \\\n",
       "0         351000.0   Unaccompanied          Working   \n",
       "1        1129500.0          Family    State servant   \n",
       "2         135000.0   Unaccompanied          Working   \n",
       "3         297000.0   Unaccompanied          Working   \n",
       "4         513000.0   Unaccompanied          Working   \n",
       "\n",
       "             NAME_EDUCATION_TYPE    NAME_FAMILY_STATUS  NAME_HOUSING_TYPE  \\\n",
       "0  Secondary / secondary special  Single / not married  House / apartment   \n",
       "1               Higher education               Married  House / apartment   \n",
       "2  Secondary / secondary special  Single / not married  House / apartment   \n",
       "3  Secondary / secondary special        Civil marriage  House / apartment   \n",
       "4  Secondary / secondary special  Single / not married  House / apartment   \n",
       "\n",
       "        ORGANIZATION_TYPE AMT_INCOME_RANGE  AMT_CREDIT_RANGE  \n",
       "0  Business Entity Type 3    200000-300000     400000-500000  \n",
       "1                  School    200000-300000  500000 and above  \n",
       "2              Government          <100000     100000-200000  \n",
       "3  Business Entity Type 3    100000-200000     300000-400000  \n",
       "4                Religion    100000-200000  500000 and above  "
      ]
     },
     "execution_count": 235,
     "metadata": {},
     "output_type": "execute_result"
    }
   ],
   "source": [
    "inp2.head()"
   ]
  },
  {
   "cell_type": "markdown",
   "id": "92f6ba7f",
   "metadata": {},
   "source": [
    "#### TARGET VS NAME FAMILY STATUS"
   ]
  },
  {
   "cell_type": "code",
   "execution_count": 285,
   "id": "d6015522",
   "metadata": {},
   "outputs": [
    {
     "data": {
      "image/png": "[encoded data removed]",
      "text/plain": [
       "<Figure size 1080x432 with 1 Axes>"
      ]
     },
     "metadata": {
      "needs_background": "light"
     },
     "output_type": "display_data"
    }
   ],
   "source": [
    "plt.figure(figsize = (15, 6))\n",
    "\n",
    "sns.countplot(data=inp2,x=\"NAME_FAMILY_STATUS\",hue=\"TARGET\",color=\"g\")\n",
    "plt.xticks(rotation=90)\n",
    "plt.yscale('log')\n",
    "plt.title(\"TARGET VS FAMILY STATUS\")\n",
    "plt.show()"
   ]
  },
  {
   "cell_type": "markdown",
   "id": "5393eee2",
   "metadata": {},
   "source": [
    "OUTCOME : \n",
    "    \n",
    "    MARRIED PEOPLE HAVE DIFFICULTIES IN PAYING LOAN"
   ]
  },
  {
   "cell_type": "markdown",
   "id": "54de6296",
   "metadata": {},
   "source": [
    "#### TARGET VS INCOME TYPE"
   ]
  },
  {
   "cell_type": "code",
   "execution_count": 287,
   "id": "0167e17e",
   "metadata": {},
   "outputs": [
    {
     "data": {
      "image/png": "[encoded data removed]",
      "text/plain": [
       "<Figure size 1080x432 with 1 Axes>"
      ]
     },
     "metadata": {
      "needs_background": "light"
     },
     "output_type": "display_data"
    }
   ],
   "source": [
    "plt.figure(figsize = (15, 6))\n",
    "\n",
    "sns.countplot(data=inp2,x=\"NAME_INCOME_TYPE\",hue=\"TARGET\")\n",
    "plt.xticks(rotation=90)\n",
    "plt.yscale('log')\n",
    "plt.title(\"TARGET VS INCOME TYPE\")\n",
    "plt.show()"
   ]
  },
  {
   "cell_type": "markdown",
   "id": "d1b13900",
   "metadata": {},
   "source": [
    "OUTCOME:\n",
    "    Students, pensioners, businessman - do not have any pending loans"
   ]
  },
  {
   "cell_type": "markdown",
   "id": "642524f1",
   "metadata": {},
   "source": [
    "#### TARGET VS NAME CONTRACT TYPE"
   ]
  },
  {
   "cell_type": "code",
   "execution_count": 291,
   "id": "f6bf0f35",
   "metadata": {},
   "outputs": [
    {
     "data": {
      "image/png": "[encoded data removed]",
      "text/plain": [
       "<Figure size 1080x504 with 1 Axes>"
      ]
     },
     "metadata": {
      "needs_background": "light"
     },
     "output_type": "display_data"
    }
   ],
   "source": [
    "plt.figure(figsize = (15, 7))\n",
    "\n",
    "sns.countplot(data=inp2,x=\"NAME_CONTRACT_TYPE\",hue=\"TARGET\")\n",
    "plt.xticks(rotation=90)\n",
    "plt.yscale('log')\n",
    "plt.title(\"TARGET VS NAME CONTRACT TYPE\")\n",
    "plt.show()"
   ]
  },
  {
   "cell_type": "markdown",
   "id": "5f49bf3e",
   "metadata": {},
   "source": [
    "###### OUTCOME :\n",
    "    Cash loans have difficulty in paying"
   ]
  },
  {
   "cell_type": "markdown",
   "id": "2620ff4a",
   "metadata": {},
   "source": [
    "TARGET AND HOUSING TYPE"
   ]
  },
  {
   "cell_type": "code",
   "execution_count": 368,
   "id": "fb27fc2f",
   "metadata": {},
   "outputs": [
    {
     "data": {
      "image/png": "[encoded data removed]",
      "text/plain": [
       "<Figure size 1080x504 with 1 Axes>"
      ]
     },
     "metadata": {
      "needs_background": "light"
     },
     "output_type": "display_data"
    }
   ],
   "source": [
    "plt.figure(figsize = (15, 7))\n",
    "\n",
    "sns.countplot(data=inp2,x=\"NAME_HOUSING_TYPE\",hue=\"TARGET\")\n",
    "plt.xticks(rotation=90)\n",
    "plt.yscale('log')\n",
    "plt.title(\"TARGET VS NAME HOUSING TYPE\")\n",
    "plt.show()"
   ]
  },
  {
   "cell_type": "markdown",
   "id": "0d38cea0",
   "metadata": {},
   "source": [
    "OUTCOME:\n",
    "    People living in OFFICE APARTMENT, CO-OP APARTMENT face less difficulty in paying loans.\n",
    "    "
   ]
  },
  {
   "cell_type": "code",
   "execution_count": null,
   "id": "a4d34313",
   "metadata": {},
   "outputs": [],
   "source": []
  },
  {
   "cell_type": "code",
   "execution_count": null,
   "id": "9e31a681",
   "metadata": {},
   "outputs": [],
   "source": []
  },
  {
   "cell_type": "markdown",
   "id": "df30ffe4",
   "metadata": {},
   "source": [
    "#### ANALYSING ONLY FOR TARGET1 - DIFFICULTY IN PAYING"
   ]
  },
  {
   "cell_type": "code",
   "execution_count": 265,
   "id": "7128ffc6",
   "metadata": {},
   "outputs": [
    {
     "data": {
      "text/html": [
       "<div>\n",
       "<style scoped>\n",
       "    .dataframe tbody tr th:only-of-type {\n",
       "        vertical-align: middle;\n",
       "    }\n",
       "\n",
       "    .dataframe tbody tr th {\n",
       "        vertical-align: top;\n",
       "    }\n",
       "\n",
       "    .dataframe thead th {\n",
       "        text-align: right;\n",
       "    }\n",
       "</style>\n",
       "<table border=\"1\" class=\"dataframe\">\n",
       "  <thead>\n",
       "    <tr style=\"text-align: right;\">\n",
       "      <th></th>\n",
       "      <th>SK_ID_CURR</th>\n",
       "      <th>TARGET</th>\n",
       "      <th>NAME_CONTRACT_TYPE</th>\n",
       "      <th>CODE_GENDER</th>\n",
       "      <th>FLAG_OWN_CAR</th>\n",
       "      <th>FLAG_OWN_REALTY</th>\n",
       "      <th>CNT_CHILDREN</th>\n",
       "      <th>AMT_INCOME_TOTAL</th>\n",
       "      <th>AMT_CREDIT</th>\n",
       "      <th>AMT_ANNUITY</th>\n",
       "      <th>AMT_GOODS_PRICE</th>\n",
       "      <th>NAME_TYPE_SUITE</th>\n",
       "      <th>NAME_INCOME_TYPE</th>\n",
       "      <th>NAME_EDUCATION_TYPE</th>\n",
       "      <th>NAME_FAMILY_STATUS</th>\n",
       "      <th>NAME_HOUSING_TYPE</th>\n",
       "      <th>ORGANIZATION_TYPE</th>\n",
       "      <th>AMT_INCOME_RANGE</th>\n",
       "      <th>AMT_CREDIT_RANGE</th>\n",
       "    </tr>\n",
       "  </thead>\n",
       "  <tbody>\n",
       "    <tr>\n",
       "      <th>0</th>\n",
       "      <td>100002</td>\n",
       "      <td>1</td>\n",
       "      <td>Cash loans</td>\n",
       "      <td>M</td>\n",
       "      <td>N</td>\n",
       "      <td>Y</td>\n",
       "      <td>0</td>\n",
       "      <td>202500.0</td>\n",
       "      <td>406597.5</td>\n",
       "      <td>24700.5</td>\n",
       "      <td>351000.0</td>\n",
       "      <td>Unaccompanied</td>\n",
       "      <td>Working</td>\n",
       "      <td>Secondary / secondary special</td>\n",
       "      <td>Single / not married</td>\n",
       "      <td>House / apartment</td>\n",
       "      <td>Business Entity Type 3</td>\n",
       "      <td>200000-300000</td>\n",
       "      <td>400000-500000</td>\n",
       "    </tr>\n",
       "    <tr>\n",
       "      <th>26</th>\n",
       "      <td>100031</td>\n",
       "      <td>1</td>\n",
       "      <td>Cash loans</td>\n",
       "      <td>F</td>\n",
       "      <td>N</td>\n",
       "      <td>Y</td>\n",
       "      <td>0</td>\n",
       "      <td>112500.0</td>\n",
       "      <td>979992.0</td>\n",
       "      <td>27076.5</td>\n",
       "      <td>702000.0</td>\n",
       "      <td>Unaccompanied</td>\n",
       "      <td>Working</td>\n",
       "      <td>Secondary / secondary special</td>\n",
       "      <td>Widow</td>\n",
       "      <td>House / apartment</td>\n",
       "      <td>Business Entity Type 3</td>\n",
       "      <td>100000-200000</td>\n",
       "      <td>500000 and above</td>\n",
       "    </tr>\n",
       "    <tr>\n",
       "      <th>40</th>\n",
       "      <td>100047</td>\n",
       "      <td>1</td>\n",
       "      <td>Cash loans</td>\n",
       "      <td>M</td>\n",
       "      <td>N</td>\n",
       "      <td>Y</td>\n",
       "      <td>0</td>\n",
       "      <td>202500.0</td>\n",
       "      <td>1193580.0</td>\n",
       "      <td>35028.0</td>\n",
       "      <td>855000.0</td>\n",
       "      <td>Unaccompanied</td>\n",
       "      <td>Commercial associate</td>\n",
       "      <td>Secondary / secondary special</td>\n",
       "      <td>Married</td>\n",
       "      <td>House / apartment</td>\n",
       "      <td>Business Entity Type 3</td>\n",
       "      <td>200000-300000</td>\n",
       "      <td>500000 and above</td>\n",
       "    </tr>\n",
       "    <tr>\n",
       "      <th>42</th>\n",
       "      <td>100049</td>\n",
       "      <td>1</td>\n",
       "      <td>Cash loans</td>\n",
       "      <td>F</td>\n",
       "      <td>N</td>\n",
       "      <td>N</td>\n",
       "      <td>0</td>\n",
       "      <td>135000.0</td>\n",
       "      <td>288873.0</td>\n",
       "      <td>16258.5</td>\n",
       "      <td>238500.0</td>\n",
       "      <td>Unaccompanied</td>\n",
       "      <td>Working</td>\n",
       "      <td>Secondary / secondary special</td>\n",
       "      <td>Civil marriage</td>\n",
       "      <td>House / apartment</td>\n",
       "      <td>Self-employed</td>\n",
       "      <td>100000-200000</td>\n",
       "      <td>200000-300000</td>\n",
       "    </tr>\n",
       "    <tr>\n",
       "      <th>94</th>\n",
       "      <td>100112</td>\n",
       "      <td>1</td>\n",
       "      <td>Cash loans</td>\n",
       "      <td>M</td>\n",
       "      <td>Y</td>\n",
       "      <td>Y</td>\n",
       "      <td>0</td>\n",
       "      <td>315000.0</td>\n",
       "      <td>953460.0</td>\n",
       "      <td>64107.0</td>\n",
       "      <td>900000.0</td>\n",
       "      <td>Family</td>\n",
       "      <td>Commercial associate</td>\n",
       "      <td>Incomplete higher</td>\n",
       "      <td>Single / not married</td>\n",
       "      <td>With parents</td>\n",
       "      <td>Industry: type 4</td>\n",
       "      <td>300000-400000</td>\n",
       "      <td>500000 and above</td>\n",
       "    </tr>\n",
       "  </tbody>\n",
       "</table>\n",
       "</div>"
      ],
      "text/plain": [
       "    SK_ID_CURR  TARGET NAME_CONTRACT_TYPE CODE_GENDER FLAG_OWN_CAR  \\\n",
       "0       100002       1         Cash loans           M            N   \n",
       "26      100031       1         Cash loans           F            N   \n",
       "40      100047       1         Cash loans           M            N   \n",
       "42      100049       1         Cash loans           F            N   \n",
       "94      100112       1         Cash loans           M            Y   \n",
       "\n",
       "   FLAG_OWN_REALTY  CNT_CHILDREN  AMT_INCOME_TOTAL  AMT_CREDIT  AMT_ANNUITY  \\\n",
       "0                Y             0          202500.0    406597.5      24700.5   \n",
       "26               Y             0          112500.0    979992.0      27076.5   \n",
       "40               Y             0          202500.0   1193580.0      35028.0   \n",
       "42               N             0          135000.0    288873.0      16258.5   \n",
       "94               Y             0          315000.0    953460.0      64107.0   \n",
       "\n",
       "    AMT_GOODS_PRICE NAME_TYPE_SUITE      NAME_INCOME_TYPE  \\\n",
       "0          351000.0   Unaccompanied               Working   \n",
       "26         702000.0   Unaccompanied               Working   \n",
       "40         855000.0   Unaccompanied  Commercial associate   \n",
       "42         238500.0   Unaccompanied               Working   \n",
       "94         900000.0          Family  Commercial associate   \n",
       "\n",
       "              NAME_EDUCATION_TYPE    NAME_FAMILY_STATUS  NAME_HOUSING_TYPE  \\\n",
       "0   Secondary / secondary special  Single / not married  House / apartment   \n",
       "26  Secondary / secondary special                 Widow  House / apartment   \n",
       "40  Secondary / secondary special               Married  House / apartment   \n",
       "42  Secondary / secondary special        Civil marriage  House / apartment   \n",
       "94              Incomplete higher  Single / not married       With parents   \n",
       "\n",
       "         ORGANIZATION_TYPE AMT_INCOME_RANGE  AMT_CREDIT_RANGE  \n",
       "0   Business Entity Type 3    200000-300000     400000-500000  \n",
       "26  Business Entity Type 3    100000-200000  500000 and above  \n",
       "40  Business Entity Type 3    200000-300000  500000 and above  \n",
       "42           Self-employed    100000-200000     200000-300000  \n",
       "94        Industry: type 4    300000-400000  500000 and above  "
      ]
     },
     "execution_count": 265,
     "metadata": {},
     "output_type": "execute_result"
    }
   ],
   "source": [
    "target1.head()"
   ]
  },
  {
   "cell_type": "code",
   "execution_count": 298,
   "id": "e588e964",
   "metadata": {},
   "outputs": [
    {
     "data": {
      "image/png": "[encoded data removed]",
      "text/plain": [
       "<Figure size 1080x432 with 1 Axes>"
      ]
     },
     "metadata": {
      "needs_background": "light"
     },
     "output_type": "display_data"
    }
   ],
   "source": [
    "plt.figure(figsize = (15, 6))\n",
    "\n",
    "target1.NAME_INCOME_TYPE.value_counts(normalize=True).plot.bar(color=\"y\")\n",
    "plt.title(\"TARGET=1 VS INCOME TYPE\")\n",
    "plt.show()"
   ]
  },
  {
   "cell_type": "markdown",
   "id": "543ba2ba",
   "metadata": {},
   "source": [
    "TARGET VS INCOME TYPE VS FAMILY STATUS"
   ]
  },
  {
   "cell_type": "code",
   "execution_count": 299,
   "id": "400c42ce",
   "metadata": {},
   "outputs": [
    {
     "data": {
      "image/png": "[encoded data removed]",
      "text/plain": [
       "<Figure size 1080x432 with 1 Axes>"
      ]
     },
     "metadata": {
      "needs_background": "light"
     },
     "output_type": "display_data"
    }
   ],
   "source": [
    "plt.figure(figsize = (15, 6))\n",
    "\n",
    "sns.countplot(data=target1,x=\"NAME_INCOME_TYPE\",hue=\"NAME_FAMILY_STATUS\")\n",
    "plt.xticks(rotation=90)\n",
    "plt.yscale('log')\n",
    "plt.title(\"TARGET1 VS INCOME TYPE WITH FAMILY STATUS\")\n",
    "plt.show()"
   ]
  },
  {
   "cell_type": "markdown",
   "id": "3da3e14b",
   "metadata": {},
   "source": [
    "###### OUTCOME:\n",
    "    -Working professionals that are  married and on maternity leave face the most difficulty in paying the loans\n",
    "    -least difficulty faced by people who are widow or separated\n",
    "    - Working people who are married are facing the most difficulty"
   ]
  },
  {
   "cell_type": "markdown",
   "id": "bc6cf522",
   "metadata": {},
   "source": [
    "TARGET=1 NAME HOUSING TYPE WITH FAMILY STATUS"
   ]
  },
  {
   "cell_type": "code",
   "execution_count": 371,
   "id": "474932a6",
   "metadata": {},
   "outputs": [
    {
     "data": {
      "image/png": "[encoded data removed]",
      "text/plain": [
       "<Figure size 1080x432 with 1 Axes>"
      ]
     },
     "metadata": {
      "needs_background": "light"
     },
     "output_type": "display_data"
    }
   ],
   "source": [
    "plt.figure(figsize = (15, 6))\n",
    "\n",
    "sns.countplot(data=target1,x=\"NAME_HOUSING_TYPE\",hue=\"NAME_FAMILY_STATUS\")\n",
    "plt.xticks(rotation=90)\n",
    "plt.yscale('log')\n",
    "plt.title(\"TARGET1 VS HOUSING WITH FAMILY STATUS\")\n",
    "plt.show()"
   ]
  },
  {
   "cell_type": "markdown",
   "id": "2ae92fda",
   "metadata": {},
   "source": [
    "TARGET=1 NAME HOUSING TYPE WITH INCOME TYPE"
   ]
  },
  {
   "cell_type": "code",
   "execution_count": 372,
   "id": "20ace86b",
   "metadata": {},
   "outputs": [
    {
     "data": {
      "image/png": "[encoded data removed]",
      "text/plain": [
       "<Figure size 1080x432 with 1 Axes>"
      ]
     },
     "metadata": {
      "needs_background": "light"
     },
     "output_type": "display_data"
    }
   ],
   "source": [
    "plt.figure(figsize = (15, 6))\n",
    "\n",
    "sns.countplot(data=target1,x=\"NAME_HOUSING_TYPE\",hue=\"NAME_INCOME_TYPE\")\n",
    "plt.xticks(rotation=90)\n",
    "plt.yscale('log')\n",
    "plt.title(\"TARGET1 VS HOUSING TYPE WITH INCOME TYPE\")\n",
    "plt.show()"
   ]
  },
  {
   "cell_type": "markdown",
   "id": "baea6d9a",
   "metadata": {},
   "source": [
    "##### OUTCOME:\n",
    "    -WORKING PEOPLE WHO ARE MARRIED AND LIVING IN APARTMENT FACE MORE DIFFICULTY IN PAYING LOANS.\n",
    "    -PEOPLE WITH MATERNITY LEAVE SHOULD BE AVOIDED IN GRANTING LOANS\n"
   ]
  },
  {
   "cell_type": "markdown",
   "id": "305f8560",
   "metadata": {},
   "source": [
    "### READING PREVIOUS_APPLICATION DATA IN DATAFRAME"
   ]
  },
  {
   "cell_type": "code",
   "execution_count": 302,
   "id": "08ef5c37",
   "metadata": {},
   "outputs": [
    {
     "data": {
      "text/html": [
       "<div>\n",
       "<style scoped>\n",
       "    .dataframe tbody tr th:only-of-type {\n",
       "        vertical-align: middle;\n",
       "    }\n",
       "\n",
       "    .dataframe tbody tr th {\n",
       "        vertical-align: top;\n",
       "    }\n",
       "\n",
       "    .dataframe thead th {\n",
       "        text-align: right;\n",
       "    }\n",
       "</style>\n",
       "<table border=\"1\" class=\"dataframe\">\n",
       "  <thead>\n",
       "    <tr style=\"text-align: right;\">\n",
       "      <th></th>\n",
       "      <th>SK_ID_PREV</th>\n",
       "      <th>SK_ID_CURR</th>\n",
       "      <th>NAME_CONTRACT_TYPE</th>\n",
       "      <th>AMT_ANNUITY</th>\n",
       "      <th>AMT_APPLICATION</th>\n",
       "      <th>AMT_CREDIT</th>\n",
       "      <th>AMT_DOWN_PAYMENT</th>\n",
       "      <th>AMT_GOODS_PRICE</th>\n",
       "      <th>WEEKDAY_APPR_PROCESS_START</th>\n",
       "      <th>HOUR_APPR_PROCESS_START</th>\n",
       "      <th>...</th>\n",
       "      <th>NAME_SELLER_INDUSTRY</th>\n",
       "      <th>CNT_PAYMENT</th>\n",
       "      <th>NAME_YIELD_GROUP</th>\n",
       "      <th>PRODUCT_COMBINATION</th>\n",
       "      <th>DAYS_FIRST_DRAWING</th>\n",
       "      <th>DAYS_FIRST_DUE</th>\n",
       "      <th>DAYS_LAST_DUE_1ST_VERSION</th>\n",
       "      <th>DAYS_LAST_DUE</th>\n",
       "      <th>DAYS_TERMINATION</th>\n",
       "      <th>NFLAG_INSURED_ON_APPROVAL</th>\n",
       "    </tr>\n",
       "  </thead>\n",
       "  <tbody>\n",
       "    <tr>\n",
       "      <th>0</th>\n",
       "      <td>2030495</td>\n",
       "      <td>271877</td>\n",
       "      <td>Consumer loans</td>\n",
       "      <td>1730.430</td>\n",
       "      <td>17145.0</td>\n",
       "      <td>17145.0</td>\n",
       "      <td>0.0</td>\n",
       "      <td>17145.0</td>\n",
       "      <td>SATURDAY</td>\n",
       "      <td>15</td>\n",
       "      <td>...</td>\n",
       "      <td>Connectivity</td>\n",
       "      <td>12.0</td>\n",
       "      <td>middle</td>\n",
       "      <td>POS mobile with interest</td>\n",
       "      <td>365243.0</td>\n",
       "      <td>-42.0</td>\n",
       "      <td>300.0</td>\n",
       "      <td>-42.0</td>\n",
       "      <td>-37.0</td>\n",
       "      <td>0.0</td>\n",
       "    </tr>\n",
       "    <tr>\n",
       "      <th>1</th>\n",
       "      <td>2802425</td>\n",
       "      <td>108129</td>\n",
       "      <td>Cash loans</td>\n",
       "      <td>25188.615</td>\n",
       "      <td>607500.0</td>\n",
       "      <td>679671.0</td>\n",
       "      <td>NaN</td>\n",
       "      <td>607500.0</td>\n",
       "      <td>THURSDAY</td>\n",
       "      <td>11</td>\n",
       "      <td>...</td>\n",
       "      <td>XNA</td>\n",
       "      <td>36.0</td>\n",
       "      <td>low_action</td>\n",
       "      <td>Cash X-Sell: low</td>\n",
       "      <td>365243.0</td>\n",
       "      <td>-134.0</td>\n",
       "      <td>916.0</td>\n",
       "      <td>365243.0</td>\n",
       "      <td>365243.0</td>\n",
       "      <td>1.0</td>\n",
       "    </tr>\n",
       "    <tr>\n",
       "      <th>2</th>\n",
       "      <td>2523466</td>\n",
       "      <td>122040</td>\n",
       "      <td>Cash loans</td>\n",
       "      <td>15060.735</td>\n",
       "      <td>112500.0</td>\n",
       "      <td>136444.5</td>\n",
       "      <td>NaN</td>\n",
       "      <td>112500.0</td>\n",
       "      <td>TUESDAY</td>\n",
       "      <td>11</td>\n",
       "      <td>...</td>\n",
       "      <td>XNA</td>\n",
       "      <td>12.0</td>\n",
       "      <td>high</td>\n",
       "      <td>Cash X-Sell: high</td>\n",
       "      <td>365243.0</td>\n",
       "      <td>-271.0</td>\n",
       "      <td>59.0</td>\n",
       "      <td>365243.0</td>\n",
       "      <td>365243.0</td>\n",
       "      <td>1.0</td>\n",
       "    </tr>\n",
       "    <tr>\n",
       "      <th>3</th>\n",
       "      <td>2819243</td>\n",
       "      <td>176158</td>\n",
       "      <td>Cash loans</td>\n",
       "      <td>47041.335</td>\n",
       "      <td>450000.0</td>\n",
       "      <td>470790.0</td>\n",
       "      <td>NaN</td>\n",
       "      <td>450000.0</td>\n",
       "      <td>MONDAY</td>\n",
       "      <td>7</td>\n",
       "      <td>...</td>\n",
       "      <td>XNA</td>\n",
       "      <td>12.0</td>\n",
       "      <td>middle</td>\n",
       "      <td>Cash X-Sell: middle</td>\n",
       "      <td>365243.0</td>\n",
       "      <td>-482.0</td>\n",
       "      <td>-152.0</td>\n",
       "      <td>-182.0</td>\n",
       "      <td>-177.0</td>\n",
       "      <td>1.0</td>\n",
       "    </tr>\n",
       "    <tr>\n",
       "      <th>4</th>\n",
       "      <td>1784265</td>\n",
       "      <td>202054</td>\n",
       "      <td>Cash loans</td>\n",
       "      <td>31924.395</td>\n",
       "      <td>337500.0</td>\n",
       "      <td>404055.0</td>\n",
       "      <td>NaN</td>\n",
       "      <td>337500.0</td>\n",
       "      <td>THURSDAY</td>\n",
       "      <td>9</td>\n",
       "      <td>...</td>\n",
       "      <td>XNA</td>\n",
       "      <td>24.0</td>\n",
       "      <td>high</td>\n",
       "      <td>Cash Street: high</td>\n",
       "      <td>NaN</td>\n",
       "      <td>NaN</td>\n",
       "      <td>NaN</td>\n",
       "      <td>NaN</td>\n",
       "      <td>NaN</td>\n",
       "      <td>NaN</td>\n",
       "    </tr>\n",
       "  </tbody>\n",
       "</table>\n",
       "<p>5 rows × 37 columns</p>\n",
       "</div>"
      ],
      "text/plain": [
       "   SK_ID_PREV  SK_ID_CURR NAME_CONTRACT_TYPE  AMT_ANNUITY  AMT_APPLICATION  \\\n",
       "0     2030495      271877     Consumer loans     1730.430          17145.0   \n",
       "1     2802425      108129         Cash loans    25188.615         607500.0   \n",
       "2     2523466      122040         Cash loans    15060.735         112500.0   \n",
       "3     2819243      176158         Cash loans    47041.335         450000.0   \n",
       "4     1784265      202054         Cash loans    31924.395         337500.0   \n",
       "\n",
       "   AMT_CREDIT  AMT_DOWN_PAYMENT  AMT_GOODS_PRICE WEEKDAY_APPR_PROCESS_START  \\\n",
       "0     17145.0               0.0          17145.0                   SATURDAY   \n",
       "1    679671.0               NaN         607500.0                   THURSDAY   \n",
       "2    136444.5               NaN         112500.0                    TUESDAY   \n",
       "3    470790.0               NaN         450000.0                     MONDAY   \n",
       "4    404055.0               NaN         337500.0                   THURSDAY   \n",
       "\n",
       "   HOUR_APPR_PROCESS_START  ... NAME_SELLER_INDUSTRY  CNT_PAYMENT  \\\n",
       "0                       15  ...         Connectivity         12.0   \n",
       "1                       11  ...                  XNA         36.0   \n",
       "2                       11  ...                  XNA         12.0   \n",
       "3                        7  ...                  XNA         12.0   \n",
       "4                        9  ...                  XNA         24.0   \n",
       "\n",
       "   NAME_YIELD_GROUP       PRODUCT_COMBINATION  DAYS_FIRST_DRAWING  \\\n",
       "0            middle  POS mobile with interest            365243.0   \n",
       "1        low_action          Cash X-Sell: low            365243.0   \n",
       "2              high         Cash X-Sell: high            365243.0   \n",
       "3            middle       Cash X-Sell: middle            365243.0   \n",
       "4              high         Cash Street: high                 NaN   \n",
       "\n",
       "  DAYS_FIRST_DUE DAYS_LAST_DUE_1ST_VERSION  DAYS_LAST_DUE DAYS_TERMINATION  \\\n",
       "0          -42.0                     300.0          -42.0            -37.0   \n",
       "1         -134.0                     916.0       365243.0         365243.0   \n",
       "2         -271.0                      59.0       365243.0         365243.0   \n",
       "3         -482.0                    -152.0         -182.0           -177.0   \n",
       "4            NaN                       NaN            NaN              NaN   \n",
       "\n",
       "  NFLAG_INSURED_ON_APPROVAL  \n",
       "0                       0.0  \n",
       "1                       1.0  \n",
       "2                       1.0  \n",
       "3                       1.0  \n",
       "4                       NaN  \n",
       "\n",
       "[5 rows x 37 columns]"
      ]
     },
     "execution_count": 302,
     "metadata": {},
     "output_type": "execute_result"
    }
   ],
   "source": [
    "prev=pd.read_csv(r\"C:\\Users\\HP\\Downloads\\previous_application.csv\")\n",
    "prev.head()"
   ]
  },
  {
   "cell_type": "markdown",
   "id": "b25dc83d",
   "metadata": {},
   "source": [
    "DROPPING UNNECESSARY COLUMNS"
   ]
  },
  {
   "cell_type": "code",
   "execution_count": 306,
   "id": "b6ca73c6",
   "metadata": {},
   "outputs": [],
   "source": [
    "prev.drop(prev.loc[:,\"WEEKDAY_APPR_PROCESS_START\":\"RATE_INTEREST_PRIVILEGED\"],axis=1,inplace=True)"
   ]
  },
  {
   "cell_type": "code",
   "execution_count": 307,
   "id": "3ec3fc5b",
   "metadata": {},
   "outputs": [
    {
     "name": "stdout",
     "output_type": "stream",
     "text": [
      "<class 'pandas.core.frame.DataFrame'>\n",
      "RangeIndex: 1670214 entries, 0 to 1670213\n",
      "Data columns (total 30 columns):\n",
      " #   Column                     Non-Null Count    Dtype  \n",
      "---  ------                     --------------    -----  \n",
      " 0   SK_ID_PREV                 1670214 non-null  int64  \n",
      " 1   SK_ID_CURR                 1670214 non-null  int64  \n",
      " 2   NAME_CONTRACT_TYPE         1670214 non-null  object \n",
      " 3   AMT_ANNUITY                1297979 non-null  float64\n",
      " 4   AMT_APPLICATION            1670214 non-null  float64\n",
      " 5   AMT_CREDIT                 1670213 non-null  float64\n",
      " 6   AMT_DOWN_PAYMENT           774370 non-null   float64\n",
      " 7   AMT_GOODS_PRICE            1284699 non-null  float64\n",
      " 8   NAME_CASH_LOAN_PURPOSE     1670214 non-null  object \n",
      " 9   NAME_CONTRACT_STATUS       1670214 non-null  object \n",
      " 10  DAYS_DECISION              1670214 non-null  int64  \n",
      " 11  NAME_PAYMENT_TYPE          1670214 non-null  object \n",
      " 12  CODE_REJECT_REASON         1670214 non-null  object \n",
      " 13  NAME_TYPE_SUITE            849809 non-null   object \n",
      " 14  NAME_CLIENT_TYPE           1670214 non-null  object \n",
      " 15  NAME_GOODS_CATEGORY        1670214 non-null  object \n",
      " 16  NAME_PORTFOLIO             1670214 non-null  object \n",
      " 17  NAME_PRODUCT_TYPE          1670214 non-null  object \n",
      " 18  CHANNEL_TYPE               1670214 non-null  object \n",
      " 19  SELLERPLACE_AREA           1670214 non-null  int64  \n",
      " 20  NAME_SELLER_INDUSTRY       1670214 non-null  object \n",
      " 21  CNT_PAYMENT                1297984 non-null  float64\n",
      " 22  NAME_YIELD_GROUP           1670214 non-null  object \n",
      " 23  PRODUCT_COMBINATION        1669868 non-null  object \n",
      " 24  DAYS_FIRST_DRAWING         997149 non-null   float64\n",
      " 25  DAYS_FIRST_DUE             997149 non-null   float64\n",
      " 26  DAYS_LAST_DUE_1ST_VERSION  997149 non-null   float64\n",
      " 27  DAYS_LAST_DUE              997149 non-null   float64\n",
      " 28  DAYS_TERMINATION           997149 non-null   float64\n",
      " 29  NFLAG_INSURED_ON_APPROVAL  997149 non-null   float64\n",
      "dtypes: float64(12), int64(4), object(14)\n",
      "memory usage: 382.3+ MB\n"
     ]
    }
   ],
   "source": [
    "prev.info()\n"
   ]
  },
  {
   "cell_type": "code",
   "execution_count": 308,
   "id": "554ebe01",
   "metadata": {},
   "outputs": [],
   "source": [
    "prev.drop(prev.loc[:,\"NAME_YIELD_GROUP\":\"NFLAG_INSURED_ON_APPROVAL\"],axis=1,inplace=True)\n"
   ]
  },
  {
   "cell_type": "code",
   "execution_count": 310,
   "id": "dd962e59",
   "metadata": {},
   "outputs": [],
   "source": [
    "prev.drop(prev.loc[:,\"CODE_REJECT_REASON\":\"NAME_CLIENT_TYPE\"],axis=1,inplace=True)\n"
   ]
  },
  {
   "cell_type": "code",
   "execution_count": 312,
   "id": "25acabca",
   "metadata": {},
   "outputs": [],
   "source": [
    "prev.drop(prev.loc[:,\"CHANNEL_TYPE\":\"CNT_PAYMENT\"],axis=1,inplace=True)\n"
   ]
  },
  {
   "cell_type": "markdown",
   "id": "6c2bf2a0",
   "metadata": {},
   "source": [
    "DROPPING ROWS WHERE NAME_CASH_LOAN_PURPOSE IS XNA OR XAP"
   ]
  },
  {
   "cell_type": "code",
   "execution_count": 319,
   "id": "cb346076",
   "metadata": {},
   "outputs": [],
   "source": [
    "prev=prev[~(prev.NAME_CASH_LOAN_PURPOSE==\"XNA\")]"
   ]
  },
  {
   "cell_type": "code",
   "execution_count": 320,
   "id": "35c425ea",
   "metadata": {},
   "outputs": [],
   "source": [
    "prev=prev[~(prev.NAME_CASH_LOAN_PURPOSE==\"XAP\")]"
   ]
  },
  {
   "cell_type": "code",
   "execution_count": 321,
   "id": "cafd9b77",
   "metadata": {},
   "outputs": [
    {
     "data": {
      "text/plain": [
       "array(['Repairs', 'Everyday expenses', 'Car repairs',\n",
       "       'Building a house or an annex', 'Other', 'Journey',\n",
       "       'Purchase of electronic equipment', 'Medicine',\n",
       "       'Payments on other loans', 'Urgent needs', 'Buying a used car',\n",
       "       'Buying a new car', 'Buying a holiday home / land', 'Education',\n",
       "       'Buying a home', 'Furniture', 'Buying a garage',\n",
       "       'Business development', 'Wedding / gift / holiday', 'Hobby',\n",
       "       'Gasification / water supply', 'Refusal to name the goal',\n",
       "       'Money for a third person'], dtype=object)"
      ]
     },
     "execution_count": 321,
     "metadata": {},
     "output_type": "execute_result"
    }
   ],
   "source": [
    "prev.NAME_CASH_LOAN_PURPOSE.unique()"
   ]
  },
  {
   "cell_type": "code",
   "execution_count": 322,
   "id": "61483735",
   "metadata": {},
   "outputs": [
    {
     "data": {
      "text/plain": [
       "array(['Refused', 'Approved', 'Canceled', 'Unused offer'], dtype=object)"
      ]
     },
     "execution_count": 322,
     "metadata": {},
     "output_type": "execute_result"
    }
   ],
   "source": [
    "prev.NAME_CONTRACT_STATUS.unique()"
   ]
  },
  {
   "cell_type": "markdown",
   "id": "8b84bee9",
   "metadata": {},
   "source": [
    "#### Joining application and previous_application "
   ]
  },
  {
   "cell_type": "code",
   "execution_count": 323,
   "id": "8f4b04e1",
   "metadata": {},
   "outputs": [
    {
     "data": {
      "text/html": [
       "<div>\n",
       "<style scoped>\n",
       "    .dataframe tbody tr th:only-of-type {\n",
       "        vertical-align: middle;\n",
       "    }\n",
       "\n",
       "    .dataframe tbody tr th {\n",
       "        vertical-align: top;\n",
       "    }\n",
       "\n",
       "    .dataframe thead th {\n",
       "        text-align: right;\n",
       "    }\n",
       "</style>\n",
       "<table border=\"1\" class=\"dataframe\">\n",
       "  <thead>\n",
       "    <tr style=\"text-align: right;\">\n",
       "      <th></th>\n",
       "      <th>SK_ID_CURR</th>\n",
       "      <th>TARGET</th>\n",
       "      <th>NAME_CONTRACT_TYPE_</th>\n",
       "      <th>CODE_GENDER</th>\n",
       "      <th>FLAG_OWN_CAR</th>\n",
       "      <th>FLAG_OWN_REALTY</th>\n",
       "      <th>CNT_CHILDREN</th>\n",
       "      <th>AMT_INCOME_TOTAL</th>\n",
       "      <th>AMT_CREDIT_</th>\n",
       "      <th>AMT_ANNUITY_</th>\n",
       "      <th>...</th>\n",
       "      <th>AMT_CREDITx</th>\n",
       "      <th>AMT_DOWN_PAYMENT</th>\n",
       "      <th>AMT_GOODS_PRICEx</th>\n",
       "      <th>NAME_CASH_LOAN_PURPOSE</th>\n",
       "      <th>NAME_CONTRACT_STATUS</th>\n",
       "      <th>DAYS_DECISION</th>\n",
       "      <th>NAME_PAYMENT_TYPE</th>\n",
       "      <th>NAME_GOODS_CATEGORY</th>\n",
       "      <th>NAME_PORTFOLIO</th>\n",
       "      <th>NAME_PRODUCT_TYPE</th>\n",
       "    </tr>\n",
       "  </thead>\n",
       "  <tbody>\n",
       "    <tr>\n",
       "      <th>0</th>\n",
       "      <td>100002</td>\n",
       "      <td>1.0</td>\n",
       "      <td>Cash loans</td>\n",
       "      <td>M</td>\n",
       "      <td>N</td>\n",
       "      <td>Y</td>\n",
       "      <td>0.0</td>\n",
       "      <td>202500.0</td>\n",
       "      <td>406597.5</td>\n",
       "      <td>24700.5</td>\n",
       "      <td>...</td>\n",
       "      <td>NaN</td>\n",
       "      <td>NaN</td>\n",
       "      <td>NaN</td>\n",
       "      <td>NaN</td>\n",
       "      <td>NaN</td>\n",
       "      <td>NaN</td>\n",
       "      <td>NaN</td>\n",
       "      <td>NaN</td>\n",
       "      <td>NaN</td>\n",
       "      <td>NaN</td>\n",
       "    </tr>\n",
       "    <tr>\n",
       "      <th>1</th>\n",
       "      <td>100003</td>\n",
       "      <td>0.0</td>\n",
       "      <td>Cash loans</td>\n",
       "      <td>F</td>\n",
       "      <td>N</td>\n",
       "      <td>N</td>\n",
       "      <td>0.0</td>\n",
       "      <td>270000.0</td>\n",
       "      <td>1293502.5</td>\n",
       "      <td>35698.5</td>\n",
       "      <td>...</td>\n",
       "      <td>NaN</td>\n",
       "      <td>NaN</td>\n",
       "      <td>NaN</td>\n",
       "      <td>NaN</td>\n",
       "      <td>NaN</td>\n",
       "      <td>NaN</td>\n",
       "      <td>NaN</td>\n",
       "      <td>NaN</td>\n",
       "      <td>NaN</td>\n",
       "      <td>NaN</td>\n",
       "    </tr>\n",
       "    <tr>\n",
       "      <th>2</th>\n",
       "      <td>100004</td>\n",
       "      <td>0.0</td>\n",
       "      <td>Revolving loans</td>\n",
       "      <td>M</td>\n",
       "      <td>Y</td>\n",
       "      <td>Y</td>\n",
       "      <td>0.0</td>\n",
       "      <td>67500.0</td>\n",
       "      <td>135000.0</td>\n",
       "      <td>6750.0</td>\n",
       "      <td>...</td>\n",
       "      <td>NaN</td>\n",
       "      <td>NaN</td>\n",
       "      <td>NaN</td>\n",
       "      <td>NaN</td>\n",
       "      <td>NaN</td>\n",
       "      <td>NaN</td>\n",
       "      <td>NaN</td>\n",
       "      <td>NaN</td>\n",
       "      <td>NaN</td>\n",
       "      <td>NaN</td>\n",
       "    </tr>\n",
       "    <tr>\n",
       "      <th>3</th>\n",
       "      <td>100006</td>\n",
       "      <td>0.0</td>\n",
       "      <td>Cash loans</td>\n",
       "      <td>F</td>\n",
       "      <td>N</td>\n",
       "      <td>Y</td>\n",
       "      <td>0.0</td>\n",
       "      <td>135000.0</td>\n",
       "      <td>312682.5</td>\n",
       "      <td>29686.5</td>\n",
       "      <td>...</td>\n",
       "      <td>NaN</td>\n",
       "      <td>NaN</td>\n",
       "      <td>NaN</td>\n",
       "      <td>NaN</td>\n",
       "      <td>NaN</td>\n",
       "      <td>NaN</td>\n",
       "      <td>NaN</td>\n",
       "      <td>NaN</td>\n",
       "      <td>NaN</td>\n",
       "      <td>NaN</td>\n",
       "    </tr>\n",
       "    <tr>\n",
       "      <th>4</th>\n",
       "      <td>100007</td>\n",
       "      <td>0.0</td>\n",
       "      <td>Cash loans</td>\n",
       "      <td>M</td>\n",
       "      <td>N</td>\n",
       "      <td>Y</td>\n",
       "      <td>0.0</td>\n",
       "      <td>121500.0</td>\n",
       "      <td>513000.0</td>\n",
       "      <td>21865.5</td>\n",
       "      <td>...</td>\n",
       "      <td>NaN</td>\n",
       "      <td>NaN</td>\n",
       "      <td>NaN</td>\n",
       "      <td>NaN</td>\n",
       "      <td>NaN</td>\n",
       "      <td>NaN</td>\n",
       "      <td>NaN</td>\n",
       "      <td>NaN</td>\n",
       "      <td>NaN</td>\n",
       "      <td>NaN</td>\n",
       "    </tr>\n",
       "  </tbody>\n",
       "</table>\n",
       "<p>5 rows × 33 columns</p>\n",
       "</div>"
      ],
      "text/plain": [
       "   SK_ID_CURR  TARGET NAME_CONTRACT_TYPE_ CODE_GENDER FLAG_OWN_CAR  \\\n",
       "0      100002     1.0          Cash loans           M            N   \n",
       "1      100003     0.0          Cash loans           F            N   \n",
       "2      100004     0.0     Revolving loans           M            Y   \n",
       "3      100006     0.0          Cash loans           F            N   \n",
       "4      100007     0.0          Cash loans           M            N   \n",
       "\n",
       "  FLAG_OWN_REALTY  CNT_CHILDREN  AMT_INCOME_TOTAL  AMT_CREDIT_  AMT_ANNUITY_  \\\n",
       "0               Y           0.0          202500.0     406597.5       24700.5   \n",
       "1               N           0.0          270000.0    1293502.5       35698.5   \n",
       "2               Y           0.0           67500.0     135000.0        6750.0   \n",
       "3               Y           0.0          135000.0     312682.5       29686.5   \n",
       "4               Y           0.0          121500.0     513000.0       21865.5   \n",
       "\n",
       "   ...  AMT_CREDITx AMT_DOWN_PAYMENT AMT_GOODS_PRICEx NAME_CASH_LOAN_PURPOSE  \\\n",
       "0  ...          NaN              NaN              NaN                    NaN   \n",
       "1  ...          NaN              NaN              NaN                    NaN   \n",
       "2  ...          NaN              NaN              NaN                    NaN   \n",
       "3  ...          NaN              NaN              NaN                    NaN   \n",
       "4  ...          NaN              NaN              NaN                    NaN   \n",
       "\n",
       "  NAME_CONTRACT_STATUS DAYS_DECISION NAME_PAYMENT_TYPE NAME_GOODS_CATEGORY  \\\n",
       "0                  NaN           NaN               NaN                 NaN   \n",
       "1                  NaN           NaN               NaN                 NaN   \n",
       "2                  NaN           NaN               NaN                 NaN   \n",
       "3                  NaN           NaN               NaN                 NaN   \n",
       "4                  NaN           NaN               NaN                 NaN   \n",
       "\n",
       "  NAME_PORTFOLIO  NAME_PRODUCT_TYPE  \n",
       "0            NaN                NaN  \n",
       "1            NaN                NaN  \n",
       "2            NaN                NaN  \n",
       "3            NaN                NaN  \n",
       "4            NaN                NaN  \n",
       "\n",
       "[5 rows x 33 columns]"
      ]
     },
     "execution_count": 323,
     "metadata": {},
     "output_type": "execute_result"
    }
   ],
   "source": [
    "new=pd.merge(left=inp2,right=prev,how='outer',on='SK_ID_CURR',suffixes='_x')\n",
    "new.head()"
   ]
  },
  {
   "cell_type": "code",
   "execution_count": 324,
   "id": "5f464450",
   "metadata": {},
   "outputs": [
    {
     "data": {
      "text/plain": [
       "Index(['SK_ID_CURR', 'TARGET', 'NAME_CONTRACT_TYPE_', 'CODE_GENDER',\n",
       "       'FLAG_OWN_CAR', 'FLAG_OWN_REALTY', 'CNT_CHILDREN', 'AMT_INCOME_TOTAL',\n",
       "       'AMT_CREDIT_', 'AMT_ANNUITY_', 'AMT_GOODS_PRICE_', 'NAME_TYPE_SUITE',\n",
       "       'NAME_INCOME_TYPE', 'NAME_EDUCATION_TYPE', 'NAME_FAMILY_STATUS',\n",
       "       'NAME_HOUSING_TYPE', 'ORGANIZATION_TYPE', 'AMT_INCOME_RANGE',\n",
       "       'AMT_CREDIT_RANGE', 'SK_ID_PREV', 'NAME_CONTRACT_TYPEx', 'AMT_ANNUITYx',\n",
       "       'AMT_APPLICATION', 'AMT_CREDITx', 'AMT_DOWN_PAYMENT',\n",
       "       'AMT_GOODS_PRICEx', 'NAME_CASH_LOAN_PURPOSE', 'NAME_CONTRACT_STATUS',\n",
       "       'DAYS_DECISION', 'NAME_PAYMENT_TYPE', 'NAME_GOODS_CATEGORY',\n",
       "       'NAME_PORTFOLIO', 'NAME_PRODUCT_TYPE'],\n",
       "      dtype='object')"
      ]
     },
     "execution_count": 324,
     "metadata": {},
     "output_type": "execute_result"
    }
   ],
   "source": [
    "new.columns"
   ]
  },
  {
   "cell_type": "markdown",
   "id": "2a3373e2",
   "metadata": {},
   "source": [
    "1. ANALYSING FOR WHICH PURPOSE TARGET VS LOAN PURPOSE"
   ]
  },
  {
   "cell_type": "code",
   "execution_count": 326,
   "id": "27a87350",
   "metadata": {},
   "outputs": [
    {
     "data": {
      "image/png": "[encoded data removed]",
      "text/plain": [
       "<Figure size 1080x432 with 1 Axes>"
      ]
     },
     "metadata": {
      "needs_background": "light"
     },
     "output_type": "display_data"
    }
   ],
   "source": [
    "plt.figure(figsize = (15, 6))\n",
    "\n",
    "sns.countplot(data=new,x=\"NAME_CASH_LOAN_PURPOSE\",hue=\"TARGET\",order=new['NAME_CASH_LOAN_PURPOSE'].value_counts().index)\n",
    "plt.xticks(rotation=90)\n",
    "plt.yscale('log')\n",
    "plt.title(\"TARGET VS LOAN PURPOSE\")\n",
    "plt.show()"
   ]
  },
  {
   "cell_type": "markdown",
   "id": "faf60e0b",
   "metadata": {},
   "source": [
    "##### OUTCOME:\n",
    "    REPAIRS ARE FACING DIFFICULTY IN REPAYING LOAN\n",
    "\n",
    "    "
   ]
  },
  {
   "cell_type": "markdown",
   "id": "980a3e8f",
   "metadata": {},
   "source": [
    "2. LOAN REJECTION VS PURPOSE"
   ]
  },
  {
   "cell_type": "code",
   "execution_count": 334,
   "id": "164f2320",
   "metadata": {},
   "outputs": [
    {
     "data": {
      "image/png": "[encoded data removed]",
      "text/plain": [
       "<Figure size 1080x432 with 1 Axes>"
      ]
     },
     "metadata": {
      "needs_background": "light"
     },
     "output_type": "display_data"
    }
   ],
   "source": [
    "plt.figure(figsize = (15, 6))\n",
    "\n",
    "sns.countplot(data=new,x=\"NAME_CASH_LOAN_PURPOSE\",hue=\"NAME_CONTRACT_STATUS\",order=new['NAME_CASH_LOAN_PURPOSE'].value_counts().index)\n",
    "plt.xticks(rotation=90)\n",
    "plt.yscale('log')\n",
    "plt.title(\"LOAN PURPOSE VS LOAN STATUS\")\n",
    "plt.show()"
   ]
  },
  {
   "cell_type": "markdown",
   "id": "8d22cfcc",
   "metadata": {},
   "source": [
    "###### OUTCOME:\n",
    "    HIGHEST APPROVALS IN REPAIRS, OTHERS AND URGENT NEEDS. FOR THE SAME FIELDS WE HAVE THE HIGHEST NUMBER OF DEFAULTERS"
   ]
  },
  {
   "attachments": {},
   "cell_type": "markdown",
   "id": "663b0ace",
   "metadata": {},
   "source": [
    "## FINAL CONCLUSIONS:\n",
    "    -Bank should focus on acquiring more clients which are students, pensioners, widows or businessmen, with housing type “CO-OP Apartment” as there are very less no defaulters or late payments from them.\n",
    "\n",
    "    -Bank should restrict loan amount for people earning less than 300k ( specially females, as the no. of female defaulters is high)\n",
    "\n",
    "    -Bank should focus less on “Working” type people who are living in house/apartment as they have the highest number of defaulters.\n",
    "\n",
    "    -Bank should approve less loans for “repair” , “urgent”, “others” purposes as these are having highest defaulters. \n",
    "\n",
    "    -People on “maternity” should not be granted loans.(Especially females)"
   ]
  },
  {
   "cell_type": "code",
   "execution_count": null,
   "id": "45879c33",
   "metadata": {},
   "outputs": [],
   "source": []
  }
 ],
 "metadata": {
  "kernelspec": {
   "display_name": "Python 3 (ipykernel)",
   "language": "python",
   "name": "python3"
  },
  "language_info": {
   "codemirror_mode": {
    "name": "ipython",
    "version": 3
   },
   "file_extension": ".py",
   "mimetype": "text/x-python",
   "name": "python",
   "nbconvert_exporter": "python",
   "pygments_lexer": "ipython3",
   "version": "3.9.12"
  }
 },
 "nbformat": 4,
 "nbformat_minor": 5
}
